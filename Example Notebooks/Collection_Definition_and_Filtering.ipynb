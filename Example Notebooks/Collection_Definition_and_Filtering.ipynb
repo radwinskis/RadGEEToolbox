{
 "cells": [
  {
   "cell_type": "code",
   "execution_count": 1,
   "metadata": {},
   "outputs": [],
   "source": [
    "import ee\n",
    "import sys\n",
    "sys.path.insert(0, '..')\n",
    "import RadGEEToolbox.LandsatCollection as LandsatCollection\n",
    "import RadGEEToolbox.Sentinel2Collection as Sentinel2Collection\n",
    "import RadGEEToolbox.GetPalette\n",
    "import RadGEEToolbox.VisParams"
   ]
  },
  {
   "cell_type": "code",
   "execution_count": 2,
   "metadata": {},
   "outputs": [],
   "source": [
    "ee.Initialize()"
   ]
  },
  {
   "cell_type": "markdown",
   "metadata": {},
   "source": [
    "### Defining collections - required arguments are start and end dates, and either tile(s), boundary/geometry, or relative orbit(s) (orbits for Sentinel-2 only)"
   ]
  },
  {
   "cell_type": "code",
   "execution_count": 3,
   "metadata": {},
   "outputs": [],
   "source": [
    "#General way to define a Sentinel-2 image collection using start date, end date, and a single MGRS tile\n",
    "S2_col = Sentinel2Collection(start_date='2023-06-01', end_date='2023-06-30', tile='12TUL')\n",
    "\n",
    "#General way to define a Sentinel-2 image collection using start date, end date, and multiple MGRS tiles\n",
    "S2_col = Sentinel2Collection(start_date='2023-06-01', end_date='2023-06-30', tile=['12TUL', '12TUM', '12TUN'])\n",
    "\n",
    "#Rather than using tiles, we can use a boundary (ee.Geometry) or if using Sentinel-2 we can use relative orbits - here we use a relative orbit number which provides a full swath of data\n",
    "S2_col_orbit_filter = Sentinel2Collection(start_date='2023-06-01', end_date='2023-06-30', relative_orbit_number=127)\n",
    "\n",
    "#Here is an example of using a boundary to filter the collection - first defining a boundary, in this case the county of Salt Lake City\n",
    "counties = ee.FeatureCollection('TIGER/2018/Counties')\n",
    "salt_lake_county = counties.filter(ee.Filter.And(\n",
    "    ee.Filter.eq('NAME', 'Salt Lake'),\n",
    "    ee.Filter.eq('STATEFP', '49')))\n",
    "salt_lake_geometry = salt_lake_county.geometry()\n",
    "\n",
    "S2_col_boundary_filter = Sentinel2Collection(start_date='2023-06-01', end_date='2023-06-15', boundary=salt_lake_geometry)\n",
    "\n",
    "#You can filter for clouds by setting the cloud percentage threshold - here we set it to 15%\n",
    "S2_col_low_clouds = Sentinel2Collection(start_date='2023-06-01', end_date='2023-06-30', relative_orbit_number=127, cloud_percentage_threshold=15)\n",
    "\n",
    "#You can also filter for images with a lot of NoData - which happens more than you'd think - here we set the threshold to 15% as well\n",
    "S2_col_no_blank_images = Sentinel2Collection(start_date='2023-06-01', end_date='2023-06-30', relative_orbit_number=127, nodata_threshold=15)\n"
   ]
  },
  {
   "cell_type": "code",
   "execution_count": 4,
   "metadata": {},
   "outputs": [
    {
     "name": "stdout",
     "output_type": "stream",
     "text": [
      "['2023-06-01', '2023-06-01', '2023-06-02', '2023-06-02', '2023-06-04', '2023-06-04', '2023-06-04', '2023-06-06', '2023-06-06', '2023-06-07', '2023-06-07', '2023-06-09', '2023-06-09', '2023-06-09', '2023-06-11', '2023-06-11', '2023-06-12', '2023-06-12', '2023-06-12', '2023-06-14', '2023-06-14', '2023-06-14', '2023-06-16', '2023-06-16', '2023-06-17', '2023-06-17', '2023-06-19', '2023-06-19', '2023-06-19', '2023-06-21', '2023-06-21', '2023-06-22', '2023-06-22', '2023-06-22', '2023-06-24', '2023-06-24', '2023-06-24', '2023-06-26', '2023-06-26', '2023-06-27', '2023-06-27', '2023-06-29', '2023-06-29', '2023-06-29']\n"
     ]
    }
   ],
   "source": [
    "print(S2_col.dates)"
   ]
  },
  {
   "cell_type": "code",
   "execution_count": 5,
   "metadata": {},
   "outputs": [],
   "source": [
    "# Similar examples for Landsat collections - showing how to filter using tiles or boundaries\n",
    "col = LandsatCollection(start_date='2023-06-01', end_date='2023-06-30', tile_row=32, tile_path=38)\n",
    "tile_filtered_col = LandsatCollection(start_date='2023-06-01', end_date='2023-06-30', tile_row=32, tile_path=38, cloud_percentage_threshold=50)\n",
    "SLC_filtered_col = LandsatCollection(start_date='2023-06-01', end_date='2023-06-30', boundary=salt_lake_geometry, cloud_percentage_threshold=15)"
   ]
  },
  {
   "cell_type": "code",
   "execution_count": 6,
   "metadata": {},
   "outputs": [
    {
     "name": "stdout",
     "output_type": "stream",
     "text": [
      "{'type': 'ImageCollection', 'bands': [], 'features': [{'type': 'Image', 'bands': [{'id': 'SR_B1', 'data_type': {'type': 'PixelType', 'precision': 'int', 'min': 0, 'max': 65535}, 'dimensions': [7891, 8001], 'crs': 'EPSG:32612', 'crs_transform': [30, 0, 167985, 0, -30, 4587315]}, {'id': 'SR_B2', 'data_type': {'type': 'PixelType', 'precision': 'int', 'min': 0, 'max': 65535}, 'dimensions': [7891, 8001], 'crs': 'EPSG:32612', 'crs_transform': [30, 0, 167985, 0, -30, 4587315]}, {'id': 'SR_B3', 'data_type': {'type': 'PixelType', 'precision': 'int', 'min': 0, 'max': 65535}, 'dimensions': [7891, 8001], 'crs': 'EPSG:32612', 'crs_transform': [30, 0, 167985, 0, -30, 4587315]}, {'id': 'SR_B4', 'data_type': {'type': 'PixelType', 'precision': 'int', 'min': 0, 'max': 65535}, 'dimensions': [7891, 8001], 'crs': 'EPSG:32612', 'crs_transform': [30, 0, 167985, 0, -30, 4587315]}, {'id': 'SR_B5', 'data_type': {'type': 'PixelType', 'precision': 'int', 'min': 0, 'max': 65535}, 'dimensions': [7891, 8001], 'crs': 'EPSG:32612', 'crs_transform': [30, 0, 167985, 0, -30, 4587315]}, {'id': 'SR_B6', 'data_type': {'type': 'PixelType', 'precision': 'int', 'min': 0, 'max': 65535}, 'dimensions': [7891, 8001], 'crs': 'EPSG:32612', 'crs_transform': [30, 0, 167985, 0, -30, 4587315]}, {'id': 'SR_B7', 'data_type': {'type': 'PixelType', 'precision': 'int', 'min': 0, 'max': 65535}, 'dimensions': [7891, 8001], 'crs': 'EPSG:32612', 'crs_transform': [30, 0, 167985, 0, -30, 4587315]}, {'id': 'SR_QA_AEROSOL', 'data_type': {'type': 'PixelType', 'precision': 'int', 'min': 0, 'max': 255}, 'dimensions': [7891, 8001], 'crs': 'EPSG:32612', 'crs_transform': [30, 0, 167985, 0, -30, 4587315]}, {'id': 'ST_B10', 'data_type': {'type': 'PixelType', 'precision': 'int', 'min': 0, 'max': 65535}, 'dimensions': [7891, 8001], 'crs': 'EPSG:32612', 'crs_transform': [30, 0, 167985, 0, -30, 4587315]}, {'id': 'ST_ATRAN', 'data_type': {'type': 'PixelType', 'precision': 'int', 'min': -32768, 'max': 32767}, 'dimensions': [7891, 8001], 'crs': 'EPSG:32612', 'crs_transform': [30, 0, 167985, 0, -30, 4587315]}, {'id': 'ST_CDIST', 'data_type': {'type': 'PixelType', 'precision': 'int', 'min': -32768, 'max': 32767}, 'dimensions': [7891, 8001], 'crs': 'EPSG:32612', 'crs_transform': [30, 0, 167985, 0, -30, 4587315]}, {'id': 'ST_DRAD', 'data_type': {'type': 'PixelType', 'precision': 'int', 'min': -32768, 'max': 32767}, 'dimensions': [7891, 8001], 'crs': 'EPSG:32612', 'crs_transform': [30, 0, 167985, 0, -30, 4587315]}, {'id': 'ST_EMIS', 'data_type': {'type': 'PixelType', 'precision': 'int', 'min': -32768, 'max': 32767}, 'dimensions': [7891, 8001], 'crs': 'EPSG:32612', 'crs_transform': [30, 0, 167985, 0, -30, 4587315]}, {'id': 'ST_EMSD', 'data_type': {'type': 'PixelType', 'precision': 'int', 'min': -32768, 'max': 32767}, 'dimensions': [7891, 8001], 'crs': 'EPSG:32612', 'crs_transform': [30, 0, 167985, 0, -30, 4587315]}, {'id': 'ST_QA', 'data_type': {'type': 'PixelType', 'precision': 'int', 'min': -32768, 'max': 32767}, 'dimensions': [7891, 8001], 'crs': 'EPSG:32612', 'crs_transform': [30, 0, 167985, 0, -30, 4587315]}, {'id': 'ST_TRAD', 'data_type': {'type': 'PixelType', 'precision': 'int', 'min': -32768, 'max': 32767}, 'dimensions': [7891, 8001], 'crs': 'EPSG:32612', 'crs_transform': [30, 0, 167985, 0, -30, 4587315]}, {'id': 'ST_URAD', 'data_type': {'type': 'PixelType', 'precision': 'int', 'min': -32768, 'max': 32767}, 'dimensions': [7891, 8001], 'crs': 'EPSG:32612', 'crs_transform': [30, 0, 167985, 0, -30, 4587315]}, {'id': 'QA_PIXEL', 'data_type': {'type': 'PixelType', 'precision': 'int', 'min': 0, 'max': 65535}, 'dimensions': [7891, 8001], 'crs': 'EPSG:32612', 'crs_transform': [30, 0, 167985, 0, -30, 4587315]}, {'id': 'QA_RADSAT', 'data_type': {'type': 'PixelType', 'precision': 'int', 'min': 0, 'max': 65535}, 'dimensions': [7891, 8001], 'crs': 'EPSG:32612', 'crs_transform': [30, 0, 167985, 0, -30, 4587315]}], 'id': 'LANDSAT/LC09/C02/T1_L2/LC09_039032_20230620', 'version': 1687456132706121, 'properties': {'Date_Filter': '2023-06-20', 'system:index': '1_2_LC09_039032_20230620', 'DATA_SOURCE_ELEVATION': 'GLS2000', 'WRS_TYPE': 2, 'REFLECTANCE_ADD_BAND_1': -0.2, 'REFLECTANCE_ADD_BAND_2': -0.2, 'DATUM': 'WGS84', 'REFLECTANCE_ADD_BAND_3': -0.2, 'REFLECTANCE_ADD_BAND_4': -0.2, 'REFLECTANCE_ADD_BAND_5': -0.2, 'REFLECTANCE_ADD_BAND_6': -0.2, 'REFLECTANCE_ADD_BAND_7': -0.2, 'system:footprint': {'type': 'LinearRing', 'coordinates': [[-114.3199560530282, 41.38043783910363], [-114.32123392726943, 41.3768220430979], [-114.32371557834522, 41.36918162516504], [-114.33972875047438, 41.31765367718595], [-114.57864064161195, 40.53749352881813], [-114.81267806266982, 39.75699649972928], [-114.82653197680122, 39.71006593956936], [-114.8399712272878, 39.664159937190355], [-114.83369753399, 39.66299635243376], [-114.62102861518655, 39.62500432998853], [-112.98096141126392, 39.31726841838409], [-112.7320990579478, 39.2682837650888], [-112.73111206777264, 39.27074108839426], [-112.62527139854481, 39.59188036825782], [-112.25314511743413, 40.70195404795193], [-112.1574568798558, 40.98270964923042], [-112.15823134034592, 40.983281226743436], [-112.42898792679283, 41.03561258455256], [-114.31935483778066, 41.3809267846946], [-114.3199560530282, 41.38043783910363]]}, 'REFLECTIVE_SAMPLES': 7891, 'GROUND_CONTROL_POINTS_VERSION': 5, 'SUN_AZIMUTH': 128.23788739, 'UTM_ZONE': 12, 'DATE_ACQUIRED': '2023-06-20', 'ELLIPSOID': 'WGS84', 'system:time_end': 1687284822465, 'DATA_SOURCE_PRESSURE': 'Calculated', 'LANDSAT_PRODUCT_ID': 'LC09_L2SP_039032_20230620_20230622_02_T1', 'STATION_ID': 'LGN', 'TEMPERATURE_ADD_BAND_ST_B10': 149, 'DATA_SOURCE_REANALYSIS': 'GEOS-5 FP-IT', 'REFLECTANCE_MULT_BAND_7': 2.75e-05, 'system:time_start': 1687284822465, 'REFLECTANCE_MULT_BAND_6': 2.75e-05, 'L1_PROCESSING_LEVEL': 'L1TP', 'PROCESSING_SOFTWARE_VERSION': 'LPGS_16.3.0', 'L1_DATE_PRODUCT_GENERATED': '2023-06-20T22:25:38Z', 'ORIENTATION': 'NORTH_UP', 'REFLECTANCE_MULT_BAND_1': 2.75e-05, 'WRS_ROW': 32, 'REFLECTANCE_MULT_BAND_3': 2.75e-05, 'REFLECTANCE_MULT_BAND_2': 2.75e-05, 'TARGET_WRS_ROW': 32, 'REFLECTANCE_MULT_BAND_5': 2.75e-05, 'REFLECTANCE_MULT_BAND_4': 2.75e-05, 'THERMAL_LINES': 8001, 'GRID_CELL_SIZE_THERMAL': 30, 'IMAGE_QUALITY_TIRS': 9, 'NADIR_OFFNADIR': 'NADIR', 'CLOUD_COVER': 9.59, 'REQUEST_ID': '1749180_00042', 'EARTH_SUN_DISTANCE': 1.0161939, 'GEOMETRIC_RMSE_VERIFY': 1.676, 'COLLECTION_CATEGORY': 'T1', 'SCENE_CENTER_TIME': '18:13:42.4656960Z', 'GRID_CELL_SIZE_REFLECTIVE': 30, 'SUN_ELEVATION': 65.86332393, 'ALGORITHM_SOURCE_SURFACE_TEMPERATURE': 'st_1.5.0', 'TEMPERATURE_MAXIMUM_BAND_ST_B10': 372.999941, 'CLOUD_COVER_LAND': 9.59, 'GEOMETRIC_RMSE_MODEL': 5.145, 'ROLL_ANGLE': 0, 'COLLECTION_NUMBER': 2, 'DATE_PRODUCT_GENERATED': 1687414168000, 'L1_REQUEST_ID': '1748726_00042', 'DATA_SOURCE_OZONE': 'MODIS', 'SATURATION_BAND_1': 'N', 'DATA_SOURCE_WATER_VAPOR': 'MODIS', 'SATURATION_BAND_2': 'N', 'SATURATION_BAND_3': 'N', 'IMAGE_QUALITY_OLI': 9, 'SATURATION_BAND_4': 'N', 'LANDSAT_SCENE_ID': 'LC90390322023171LGN00', 'SATURATION_BAND_5': 'N', 'MAP_PROJECTION': 'UTM', 'SATURATION_BAND_6': 'Y', 'SENSOR_ID': 'OLI_TIRS', 'SATURATION_BAND_7': 'Y', 'SATURATION_BAND_8': 'N', 'WRS_PATH': 39, 'L1_PROCESSING_SOFTWARE_VERSION': 'LPGS_16.3.0', 'SATURATION_BAND_9': 'N', 'TARGET_WRS_PATH': 39, 'L1_LANDSAT_PRODUCT_ID': 'LC09_L1TP_039032_20230620_20230620_02_T1', 'TEMPERATURE_MULT_BAND_ST_B10': 0.00341802, 'PROCESSING_LEVEL': 'L2SP', 'ALGORITHM_SOURCE_SURFACE_REFLECTANCE': 'LaSRC_1.6.0', 'GROUND_CONTROL_POINTS_MODEL': 684, 'SPACECRAFT_ID': 'LANDSAT_9', 'TEMPERATURE_MINIMUM_BAND_ST_B10': 149.003418, 'GEOMETRIC_RMSE_MODEL_Y': 3.755, 'REFLECTIVE_LINES': 8001, 'GEOMETRIC_RMSE_MODEL_X': 3.517, 'THERMAL_SAMPLES': 7891, 'system:asset_size': 987150561, 'DATA_SOURCE_AIR_TEMPERATURE': 'MODIS', 'GROUND_CONTROL_POINTS_VERIFY': 161}}, {'type': 'Image', 'bands': [{'id': 'SR_B1', 'data_type': {'type': 'PixelType', 'precision': 'int', 'min': 0, 'max': 65535}, 'dimensions': [7791, 7921], 'crs': 'EPSG:32612', 'crs_transform': [30, 0, 302985, 0, -30, 4583415]}, {'id': 'SR_B2', 'data_type': {'type': 'PixelType', 'precision': 'int', 'min': 0, 'max': 65535}, 'dimensions': [7791, 7921], 'crs': 'EPSG:32612', 'crs_transform': [30, 0, 302985, 0, -30, 4583415]}, {'id': 'SR_B3', 'data_type': {'type': 'PixelType', 'precision': 'int', 'min': 0, 'max': 65535}, 'dimensions': [7791, 7921], 'crs': 'EPSG:32612', 'crs_transform': [30, 0, 302985, 0, -30, 4583415]}, {'id': 'SR_B4', 'data_type': {'type': 'PixelType', 'precision': 'int', 'min': 0, 'max': 65535}, 'dimensions': [7791, 7921], 'crs': 'EPSG:32612', 'crs_transform': [30, 0, 302985, 0, -30, 4583415]}, {'id': 'SR_B5', 'data_type': {'type': 'PixelType', 'precision': 'int', 'min': 0, 'max': 65535}, 'dimensions': [7791, 7921], 'crs': 'EPSG:32612', 'crs_transform': [30, 0, 302985, 0, -30, 4583415]}, {'id': 'SR_B6', 'data_type': {'type': 'PixelType', 'precision': 'int', 'min': 0, 'max': 65535}, 'dimensions': [7791, 7921], 'crs': 'EPSG:32612', 'crs_transform': [30, 0, 302985, 0, -30, 4583415]}, {'id': 'SR_B7', 'data_type': {'type': 'PixelType', 'precision': 'int', 'min': 0, 'max': 65535}, 'dimensions': [7791, 7921], 'crs': 'EPSG:32612', 'crs_transform': [30, 0, 302985, 0, -30, 4583415]}, {'id': 'SR_QA_AEROSOL', 'data_type': {'type': 'PixelType', 'precision': 'int', 'min': 0, 'max': 255}, 'dimensions': [7791, 7921], 'crs': 'EPSG:32612', 'crs_transform': [30, 0, 302985, 0, -30, 4583415]}, {'id': 'ST_B10', 'data_type': {'type': 'PixelType', 'precision': 'int', 'min': 0, 'max': 65535}, 'dimensions': [7791, 7921], 'crs': 'EPSG:32612', 'crs_transform': [30, 0, 302985, 0, -30, 4583415]}, {'id': 'ST_ATRAN', 'data_type': {'type': 'PixelType', 'precision': 'int', 'min': -32768, 'max': 32767}, 'dimensions': [7791, 7921], 'crs': 'EPSG:32612', 'crs_transform': [30, 0, 302985, 0, -30, 4583415]}, {'id': 'ST_CDIST', 'data_type': {'type': 'PixelType', 'precision': 'int', 'min': -32768, 'max': 32767}, 'dimensions': [7791, 7921], 'crs': 'EPSG:32612', 'crs_transform': [30, 0, 302985, 0, -30, 4583415]}, {'id': 'ST_DRAD', 'data_type': {'type': 'PixelType', 'precision': 'int', 'min': -32768, 'max': 32767}, 'dimensions': [7791, 7921], 'crs': 'EPSG:32612', 'crs_transform': [30, 0, 302985, 0, -30, 4583415]}, {'id': 'ST_EMIS', 'data_type': {'type': 'PixelType', 'precision': 'int', 'min': -32768, 'max': 32767}, 'dimensions': [7791, 7921], 'crs': 'EPSG:32612', 'crs_transform': [30, 0, 302985, 0, -30, 4583415]}, {'id': 'ST_EMSD', 'data_type': {'type': 'PixelType', 'precision': 'int', 'min': -32768, 'max': 32767}, 'dimensions': [7791, 7921], 'crs': 'EPSG:32612', 'crs_transform': [30, 0, 302985, 0, -30, 4583415]}, {'id': 'ST_QA', 'data_type': {'type': 'PixelType', 'precision': 'int', 'min': -32768, 'max': 32767}, 'dimensions': [7791, 7921], 'crs': 'EPSG:32612', 'crs_transform': [30, 0, 302985, 0, -30, 4583415]}, {'id': 'ST_TRAD', 'data_type': {'type': 'PixelType', 'precision': 'int', 'min': -32768, 'max': 32767}, 'dimensions': [7791, 7921], 'crs': 'EPSG:32612', 'crs_transform': [30, 0, 302985, 0, -30, 4583415]}, {'id': 'ST_URAD', 'data_type': {'type': 'PixelType', 'precision': 'int', 'min': -32768, 'max': 32767}, 'dimensions': [7791, 7921], 'crs': 'EPSG:32612', 'crs_transform': [30, 0, 302985, 0, -30, 4583415]}, {'id': 'QA_PIXEL', 'data_type': {'type': 'PixelType', 'precision': 'int', 'min': 0, 'max': 65535}, 'dimensions': [7791, 7921], 'crs': 'EPSG:32612', 'crs_transform': [30, 0, 302985, 0, -30, 4583415]}, {'id': 'QA_RADSAT', 'data_type': {'type': 'PixelType', 'precision': 'int', 'min': 0, 'max': 65535}, 'dimensions': [7791, 7921], 'crs': 'EPSG:32612', 'crs_transform': [30, 0, 302985, 0, -30, 4583415]}], 'id': 'LANDSAT/LC08/C02/T1_L2/LC08_038032_20230621', 'version': 1688130359088278, 'properties': {'Date_Filter': '2023-06-21', 'system:index': '1_1_LC08_038032_20230621', 'DATA_SOURCE_ELEVATION': 'GLS2000', 'WRS_TYPE': 2, 'REFLECTANCE_ADD_BAND_1': -0.2, 'REFLECTANCE_ADD_BAND_2': -0.2, 'DATUM': 'WGS84', 'REFLECTANCE_ADD_BAND_3': -0.2, 'REFLECTANCE_ADD_BAND_4': -0.2, 'REFLECTANCE_ADD_BAND_5': -0.2, 'REFLECTANCE_ADD_BAND_6': -0.2, 'REFLECTANCE_ADD_BAND_7': -0.2, 'system:footprint': {'type': 'LinearRing', 'coordinates': [[-112.75322341594308, 41.383271362121825], [-112.7538643317823, 41.38276864349693], [-113.01572520657774, 40.528203604162975], [-113.27021909552008, 39.677184288029366], [-113.27305552695559, 39.66736631270371], [-113.27301854511222, 39.666238263764285], [-113.23230468889169, 39.65894356408898], [-112.92866008563828, 39.60411211275331], [-111.99880693229721, 39.4306682665387], [-111.17451774947381, 39.26991947345506], [-111.17281794988826, 39.26992193883038], [-111.1711869220607, 39.27417723903013], [-110.88809495993736, 40.129238646243024], [-110.86719837755574, 40.19165284028886], [-110.79143492699511, 40.41749510985585], [-110.60028340148403, 40.983719632075825], [-110.60027767277539, 40.984672368452394], [-110.60945073796914, 40.98651933361583], [-111.73524356630396, 41.200487752804285], [-112.73428143483021, 41.38000825301653], [-112.75322341594308, 41.383271362121825]]}, 'REFLECTIVE_SAMPLES': 7791, 'GROUND_CONTROL_POINTS_VERSION': 5, 'SUN_AZIMUTH': 128.24625554, 'DATA_SOURCE_TIRS_STRAY_LIGHT_CORRECTION': 'TIRS', 'UTM_ZONE': 12, 'DATE_ACQUIRED': '2023-06-21', 'ELLIPSOID': 'WGS84', 'system:time_end': 1687370860034, 'DATA_SOURCE_PRESSURE': 'Calculated', 'LANDSAT_PRODUCT_ID': 'LC08_L2SP_038032_20230621_20230630_02_T1', 'STATION_ID': 'LGN', 'TEMPERATURE_ADD_BAND_ST_B10': 149, 'DATA_SOURCE_REANALYSIS': 'GEOS-5 FP-IT', 'REFLECTANCE_MULT_BAND_7': 2.75e-05, 'system:time_start': 1687370860034, 'REFLECTANCE_MULT_BAND_6': 2.75e-05, 'L1_PROCESSING_LEVEL': 'L1TP', 'PROCESSING_SOFTWARE_VERSION': 'LPGS_16.3.0', 'L1_DATE_PRODUCT_GENERATED': '2023-06-30T03:45:38Z', 'ORIENTATION': 'NORTH_UP', 'REFLECTANCE_MULT_BAND_1': 2.75e-05, 'WRS_ROW': 32, 'REFLECTANCE_MULT_BAND_3': 2.75e-05, 'REFLECTANCE_MULT_BAND_2': 2.75e-05, 'TARGET_WRS_ROW': 32, 'REFLECTANCE_MULT_BAND_5': 2.75e-05, 'REFLECTANCE_MULT_BAND_4': 2.75e-05, 'THERMAL_LINES': 7921, 'TIRS_SSM_POSITION_STATUS': 'ESTIMATED', 'GRID_CELL_SIZE_THERMAL': 30, 'IMAGE_QUALITY_TIRS': 9, 'TRUNCATION_OLI': 'UPPER', 'NADIR_OFFNADIR': 'NADIR', 'CLOUD_COVER': 2.99, 'REQUEST_ID': '1752742_00036', 'EARTH_SUN_DISTANCE': 1.016259, 'GEOMETRIC_RMSE_VERIFY': 2.682, 'TIRS_SSM_MODEL': 'FINAL', 'COLLECTION_CATEGORY': 'T1', 'SCENE_CENTER_TIME': '18:07:40.0342960Z', 'GRID_CELL_SIZE_REFLECTIVE': 30, 'SUN_ELEVATION': 65.86947224, 'ALGORITHM_SOURCE_SURFACE_TEMPERATURE': 'st_1.5.0', 'TEMPERATURE_MAXIMUM_BAND_ST_B10': 372.999941, 'CLOUD_COVER_LAND': 2.99, 'GEOMETRIC_RMSE_MODEL': 5.622, 'ROLL_ANGLE': -0.001, 'COLLECTION_NUMBER': 2, 'DATE_PRODUCT_GENERATED': 1688098109000, 'L1_REQUEST_ID': '1752742_00036', 'DATA_SOURCE_OZONE': 'MODIS', 'SATURATION_BAND_1': 'N', 'DATA_SOURCE_WATER_VAPOR': 'MODIS', 'SATURATION_BAND_2': 'N', 'SATURATION_BAND_3': 'Y', 'IMAGE_QUALITY_OLI': 9, 'SATURATION_BAND_4': 'Y', 'LANDSAT_SCENE_ID': 'LC80380322023172LGN00', 'SATURATION_BAND_5': 'Y', 'MAP_PROJECTION': 'UTM', 'SATURATION_BAND_6': 'Y', 'SENSOR_ID': 'OLI_TIRS', 'SATURATION_BAND_7': 'Y', 'SATURATION_BAND_8': 'N', 'WRS_PATH': 38, 'SATURATION_BAND_9': 'N', 'TARGET_WRS_PATH': 38, 'L1_PROCESSING_SOFTWARE_VERSION': 'LPGS_16.3.0', 'TEMPERATURE_MULT_BAND_ST_B10': 0.00341802, 'L1_LANDSAT_PRODUCT_ID': 'LC08_L1TP_038032_20230621_20230630_02_T1', 'PROCESSING_LEVEL': 'L2SP', 'ALGORITHM_SOURCE_SURFACE_REFLECTANCE': 'LaSRC_1.6.0', 'GROUND_CONTROL_POINTS_MODEL': 909, 'SPACECRAFT_ID': 'LANDSAT_8', 'TEMPERATURE_MINIMUM_BAND_ST_B10': 149.003418, 'GEOMETRIC_RMSE_MODEL_Y': 4.134, 'REFLECTIVE_LINES': 7921, 'GEOMETRIC_RMSE_MODEL_X': 3.81, 'THERMAL_SAMPLES': 7791, 'system:asset_size': 991995719, 'DATA_SOURCE_AIR_TEMPERATURE': 'MODIS', 'GROUND_CONTROL_POINTS_VERIFY': 236}}]}\n"
     ]
    }
   ],
   "source": [
    "# Showing how to print properties of an image collection \n",
    "# by turning the LandsatCollection object into an ee.ImageCollection object and using the .getInfo() parameter\n",
    "print(SLC_filtered_col.collection.getInfo())"
   ]
  },
  {
   "cell_type": "markdown",
   "metadata": {},
   "source": [
    "When a collection is defined it is a Sentinel2Collection or LandsatCollection object - not an Earth Engine object - but it is easy to go back and forth!"
   ]
  },
  {
   "cell_type": "code",
   "execution_count": 7,
   "metadata": {},
   "outputs": [
    {
     "name": "stdout",
     "output_type": "stream",
     "text": [
      "<RadGEEToolbox.Sentinel2Collection.Sentinel2Collection object at 0x0000025820A07E90>\n"
     ]
    }
   ],
   "source": [
    "#If we print the variable of one of the collections we see it is a Sentinel2Collection object\n",
    "print(S2_col)"
   ]
  },
  {
   "cell_type": "markdown",
   "metadata": {},
   "source": [
    "### This leads us to utilizing attributes and property attributes for general data management\n",
    "- ### Attributes and property attributes automatically call on functions and specify default thresholds for easy processing of collections\n",
    "- ### There are a plethora of property attributes available, and most of them are chainable to do multiple sets of processing with one line of code.\n",
    "- ### Results from property attributes are cached as attributes to prevent processing something that has already been processed\n",
    "#### SEE THE DOCUMENTATION FOR FULL LIST OF ATTRIBUTES AND PROPERTY ATTRIBUTES FOR THE AVAILABLE MODULES\n",
    "#### Below are the useful attributes and property attributes for the Sentine2Collection class\n",
    "\n",
    "    Attributes:\n",
    "        collection (returns: ee.ImageCollection): Returns an ee.ImageCollection object from any Sentinel2Collection image collection object\n",
    "\n",
    "    Property Attributes:\n",
    "        dates_list (returns: Server-Side List): Unreadable Earth Engine list of image dates (server-side)\n",
    "        \n",
    "        dates (returns: Client-Side List): Readable pythonic list of image dates (client-side)\n",
    "        \n",
    "        masked_clouds_collection (returns: Sentinel2Collection image collection): Returns collection with clouds masked (transparent) for each image\n",
    "\n",
    "        masked_to_water_collection (returns: Sentinel2Collection image collection): Returns collection masked to just water pixels\n",
    "\n",
    "        masked_water_collection (returns: Sentinel2Collection image collection): Returns collection with water pixels masked\n",
    "        \n",
    "        max (returns: ee.Image): Returns a temporally reduced max image (calculates max at each pixel)\n",
    "        \n",
    "        median (returns: ee.Image): Returns a temporally reduced median image (calculates median at each pixel)\n",
    "        \n",
    "        mean (returns: ee.Image): Returns a temporally reduced mean image (calculates mean at each pixel)\n",
    "        \n",
    "        min (returns: ee.Image): Returns a temporally reduced min image (calculates min at each pixel)\n",
    "        \n",
    "        ndwi (returns: ee.ImageCollection): Returns Sentinel2Collection image collection of singleband NDWI (water) rasters\n",
    "        \n",
    "        ndvi (returns: ee.ImageCollection): Returns Sentinel2Collection image collection of singleband NDVI (vegetation) rasters\n",
    "\n",
    "        halite (returns: ee.ImageCollection): Returns Sentinel2Collection image collection of singleband halite index rasters\n",
    "\n",
    "        gypsum (returns: ee.ImageCollection): Returns Sentinel2Collection image collection of singleband gypsum index rasters\n",
    "\n",
    "        turbidity (returns: ee.ImageCollection): Returns Sentinel2Collection image collection of singleband NDTI (turbidity) rasters\n",
    "\n",
    "        chlorophyll (returns: ee.ImageCollection): Returns Sentinel2Collection image collection of singleband 2BDA (relative chlorophyll-a) rasters\n",
    "\n",
    "        MosaicByDate (returns: Sentinel2Collection image collection): Mosaics image collection where images with the same date are mosaiced into the same image. Calculates total cloud percentage for subsequent filtering of cloudy mosaics.\n"
   ]
  },
  {
   "cell_type": "code",
   "execution_count": 8,
   "metadata": {},
   "outputs": [
    {
     "name": "stdout",
     "output_type": "stream",
     "text": [
      "The collection is now a <class 'ee.imagecollection.ImageCollection'>\n",
      "The collection is back to a <class 'RadGEEToolbox.Sentinel2Collection.Sentinel2Collection'>\n",
      "Readable list of image dates (client-side) ['2023-06-01', '2023-06-01', '2023-06-02', '2023-06-02', '2023-06-04', '2023-06-04', '2023-06-04', '2023-06-06', '2023-06-06', '2023-06-07', '2023-06-07', '2023-06-09', '2023-06-09', '2023-06-09', '2023-06-11', '2023-06-11', '2023-06-12', '2023-06-12', '2023-06-12', '2023-06-14', '2023-06-14', '2023-06-14', '2023-06-16', '2023-06-16', '2023-06-17', '2023-06-17', '2023-06-19', '2023-06-19', '2023-06-19', '2023-06-21', '2023-06-21', '2023-06-22', '2023-06-22', '2023-06-22', '2023-06-24', '2023-06-24', '2023-06-24', '2023-06-26', '2023-06-26', '2023-06-27', '2023-06-27', '2023-06-29', '2023-06-29', '2023-06-29']\n",
      "Server side dates are of type: <class 'ee.ee_list.List'>\n"
     ]
    }
   ],
   "source": [
    "# We can turn a Sentinel2Collection or LandsatCollection object into an Earth Engine image collection using the collection attribute\n",
    "S2_gee_col = S2_col.collection\n",
    "print('The collection is now a', type(S2_gee_col))\n",
    "\n",
    "# Say you have an Earth Engine image collection object but you want to turn it into a Sentinel2Collection or LandsatCollection object, \n",
    "# just feed it in as a collection!\n",
    "S2_col = Sentinel2Collection(collection=S2_gee_col)\n",
    "print('The collection is back to a', type(S2_col))\n",
    "\n",
    "# We can easily print the dates of all of the images in the collection using the dates attribute - this is a client-side operation\n",
    "S2_dates = S2_col.dates\n",
    "print('Readable list of image dates (client-side)', S2_dates)\n",
    "\n",
    "# Alternatively, we can make a list of server-side dates for iteration, if needed\n",
    "S2_dates_server_side = S2_col.dates_list\n",
    "print('Server side dates are of type:', type(S2_dates_server_side))\n",
    "\n",
    "# You can easily mask out clouds or water in the image collections\n",
    "S2_masked_clouds = S2_col.masked_clouds_collection\n",
    "S2_masked_to_water = S2_col.masked_to_water_collection"
   ]
  },
  {
   "cell_type": "markdown",
   "metadata": {},
   "source": [
    "### Utilizing methods for general data management\n",
    "Many functions are available as methods to manage the data alongside attributes\n",
    "\n",
    "    Methods:        \n",
    "        ndwi_collection(self, threshold)\n",
    "        \n",
    "        ndvi_collection(self, threshold)\n",
    "        \n",
    "        halite_collection(self, threshold)\n",
    "        \n",
    "        gypsum_collection(self, threshold)\n",
    "\n",
    "        turbidity_collection(self, threshold)\n",
    "\n",
    "        chlorophyll_collection(self, threshold)\n",
    "\n",
    "        get_filtered_collection(self)\n",
    "\n",
    "        get_boundary_filtered_collection(self)\n",
    "\n",
    "        get_orbit_filtered_collection(self)\n",
    "\n",
    "        get_orbit_and_boundary_filtered_collection(self)\n",
    "        \n",
    "        mask_to_polygon(self, polygon)\n",
    "\n",
    "        mask_out_polygon(self, polygon)\n",
    "\n",
    "        masked_water_collection_NDWI(self, threshold)\n",
    "\n",
    "        masked_to_water_collection_NDWI(self, threshold)\n",
    "        \n",
    "        mask_halite(self, threshold)\n",
    "        \n",
    "        mask_halite_and_gypsum(self, halite_threshold, gypsum_threshold)\n",
    "        \n",
    "        PixelAreaSumCollection(self, band_name, geometry, threshold, scale, maxPixels)\n",
    "\n",
    "        image_grab(self, img_selector)\n",
    "        \n",
    "        custom_image_grab(self, img_col, img_selector)\n",
    "        \n",
    "        image_pick(self, img_date)\n",
    "        \n",
    "        CollectionStitch(self, img_col2)"
   ]
  },
  {
   "cell_type": "code",
   "execution_count": 9,
   "metadata": {},
   "outputs": [],
   "source": [
    "# Here are some examples of utilizing method functions and attributes of the Sentinel2Collection and LandsatCollection classes\n",
    "\n",
    "# Mask entire collection based on geometry\n",
    "masked_S2_col = S2_col_orbit_filter.mask_to_polygon(salt_lake_geometry)\n",
    "\n",
    "# Mosaic images in collection that share an image date\n",
    "mosaiced_S2_col = S2_col_boundary_filter.MosaicByDate\n",
    "\n",
    "# Mask water pixels from each single image using quality bands\n",
    "water_masked_S2_col = S2_col_boundary_filter.masked_water_collection\n",
    "\n",
    "# Mask water pixels from each single image using NDWI - where values less than the specified threshold are masked in each image\n",
    "water_masked_S2_col = S2_col_boundary_filter.masked_water_collection_NDWI(threshold=0)"
   ]
  },
  {
   "cell_type": "markdown",
   "metadata": {},
   "source": [
    "#### Example chaining of methods - where we first mosaic the collection, mask the collection to water pixels, then calculate relative turbidity for each image"
   ]
  },
  {
   "cell_type": "code",
   "execution_count": 10,
   "metadata": {},
   "outputs": [
    {
     "name": "stdout",
     "output_type": "stream",
     "text": [
      "['2023-06-01', '2023-06-02', '2023-06-04', '2023-06-06', '2023-06-07', '2023-06-09', '2023-06-11', '2023-06-12', '2023-06-14', '2023-06-16', '2023-06-17', '2023-06-19', '2023-06-21', '2023-06-22', '2023-06-24', '2023-06-26', '2023-06-27', '2023-06-29']\n"
     ]
    }
   ],
   "source": [
    "# Example chaining of methods - where we first mosaic the collection, mask the collection to water pixels, then calculate relative turbidity for each image\n",
    "\n",
    "turbidity_chain_example = S2_col.MosaicByDate.masked_to_water_collection.turbidity\n",
    "print(turbidity_chain_example.dates)"
   ]
  },
  {
   "cell_type": "markdown",
   "metadata": {},
   "source": [
    "#### Arguably, one of the most useful method functions is image_grab() or image_pick() which allow you to iteratively select images from an image collection"
   ]
  },
  {
   "cell_type": "code",
   "execution_count": 11,
   "metadata": {},
   "outputs": [
    {
     "name": "stdout",
     "output_type": "stream",
     "text": [
      "{'type': 'Image', 'bands': [{'id': 'B1', 'data_type': {'type': 'PixelType', 'precision': 'int', 'min': 0, 'max': 65535}, 'crs': 'EPSG:4326', 'crs_transform': [1, 0, 0, 0, 1, 0]}, {'id': 'B2', 'data_type': {'type': 'PixelType', 'precision': 'int', 'min': 0, 'max': 65535}, 'crs': 'EPSG:4326', 'crs_transform': [1, 0, 0, 0, 1, 0]}, {'id': 'B3', 'data_type': {'type': 'PixelType', 'precision': 'int', 'min': 0, 'max': 65535}, 'crs': 'EPSG:4326', 'crs_transform': [1, 0, 0, 0, 1, 0]}, {'id': 'B4', 'data_type': {'type': 'PixelType', 'precision': 'int', 'min': 0, 'max': 65535}, 'crs': 'EPSG:4326', 'crs_transform': [1, 0, 0, 0, 1, 0]}, {'id': 'B5', 'data_type': {'type': 'PixelType', 'precision': 'int', 'min': 0, 'max': 65535}, 'crs': 'EPSG:4326', 'crs_transform': [1, 0, 0, 0, 1, 0]}, {'id': 'B6', 'data_type': {'type': 'PixelType', 'precision': 'int', 'min': 0, 'max': 65535}, 'crs': 'EPSG:4326', 'crs_transform': [1, 0, 0, 0, 1, 0]}, {'id': 'B7', 'data_type': {'type': 'PixelType', 'precision': 'int', 'min': 0, 'max': 65535}, 'crs': 'EPSG:4326', 'crs_transform': [1, 0, 0, 0, 1, 0]}, {'id': 'B8', 'data_type': {'type': 'PixelType', 'precision': 'int', 'min': 0, 'max': 65535}, 'crs': 'EPSG:4326', 'crs_transform': [1, 0, 0, 0, 1, 0]}, {'id': 'B8A', 'data_type': {'type': 'PixelType', 'precision': 'int', 'min': 0, 'max': 65535}, 'crs': 'EPSG:4326', 'crs_transform': [1, 0, 0, 0, 1, 0]}, {'id': 'B9', 'data_type': {'type': 'PixelType', 'precision': 'int', 'min': 0, 'max': 65535}, 'crs': 'EPSG:4326', 'crs_transform': [1, 0, 0, 0, 1, 0]}, {'id': 'B11', 'data_type': {'type': 'PixelType', 'precision': 'int', 'min': 0, 'max': 65535}, 'crs': 'EPSG:4326', 'crs_transform': [1, 0, 0, 0, 1, 0]}, {'id': 'B12', 'data_type': {'type': 'PixelType', 'precision': 'int', 'min': 0, 'max': 65535}, 'crs': 'EPSG:4326', 'crs_transform': [1, 0, 0, 0, 1, 0]}, {'id': 'AOT', 'data_type': {'type': 'PixelType', 'precision': 'int', 'min': 0, 'max': 65535}, 'crs': 'EPSG:4326', 'crs_transform': [1, 0, 0, 0, 1, 0]}, {'id': 'WVP', 'data_type': {'type': 'PixelType', 'precision': 'int', 'min': 0, 'max': 65535}, 'crs': 'EPSG:4326', 'crs_transform': [1, 0, 0, 0, 1, 0]}, {'id': 'SCL', 'data_type': {'type': 'PixelType', 'precision': 'int', 'min': 0, 'max': 255}, 'crs': 'EPSG:4326', 'crs_transform': [1, 0, 0, 0, 1, 0]}, {'id': 'TCI_R', 'data_type': {'type': 'PixelType', 'precision': 'int', 'min': 0, 'max': 255}, 'crs': 'EPSG:4326', 'crs_transform': [1, 0, 0, 0, 1, 0]}, {'id': 'TCI_G', 'data_type': {'type': 'PixelType', 'precision': 'int', 'min': 0, 'max': 255}, 'crs': 'EPSG:4326', 'crs_transform': [1, 0, 0, 0, 1, 0]}, {'id': 'TCI_B', 'data_type': {'type': 'PixelType', 'precision': 'int', 'min': 0, 'max': 255}, 'crs': 'EPSG:4326', 'crs_transform': [1, 0, 0, 0, 1, 0]}, {'id': 'MSK_CLDPRB', 'data_type': {'type': 'PixelType', 'precision': 'int', 'min': 0, 'max': 255}, 'crs': 'EPSG:4326', 'crs_transform': [1, 0, 0, 0, 1, 0]}, {'id': 'MSK_SNWPRB', 'data_type': {'type': 'PixelType', 'precision': 'int', 'min': 0, 'max': 255}, 'crs': 'EPSG:4326', 'crs_transform': [1, 0, 0, 0, 1, 0]}, {'id': 'QA10', 'data_type': {'type': 'PixelType', 'precision': 'int', 'min': 0, 'max': 65535}, 'crs': 'EPSG:4326', 'crs_transform': [1, 0, 0, 0, 1, 0]}, {'id': 'QA20', 'data_type': {'type': 'PixelType', 'precision': 'int', 'min': 0, 'max': 4294967295}, 'crs': 'EPSG:4326', 'crs_transform': [1, 0, 0, 0, 1, 0]}, {'id': 'QA60', 'data_type': {'type': 'PixelType', 'precision': 'int', 'min': 0, 'max': 65535}, 'crs': 'EPSG:4326', 'crs_transform': [1, 0, 0, 0, 1, 0]}], 'properties': {'CLOUDY_PIXEL_PERCENTAGE': 81.24663375, 'NODATA_PIXEL_PERCENTAGE': 26.545604249999997, 'system:index': '5', 'system:time_start': 1686767592041, 'Date_Filter': '2023-06-14', 'SPACECRAFT_NAME': 'Sentinel-2B', 'SENSING_ORBIT_NUMBER': 127, 'SENSING_ORBIT_DIRECTION': 'DESCENDING'}}\n"
     ]
    }
   ],
   "source": [
    "# Select image from collection based on index\n",
    "image_from_S2_collection = mosaiced_S2_col.image_grab(-1)\n",
    "\n",
    "# Select image from collection based on date\n",
    "image_from_S2_collection = mosaiced_S2_col.image_pick(mosaiced_S2_col.dates[-1])\n",
    "\n",
    "print(image_from_S2_collection.getInfo())"
   ]
  },
  {
   "cell_type": "markdown",
   "metadata": {},
   "source": [
    "### Using static functions\n",
    "Any of the static functions can be used on traditional earth engine image objects or mapped to EE collections. Below are the static methods for the Sentinel2Collection class.\n",
    "\n",
    "    Static Methods:\n",
    "        image_dater(image)\n",
    "        \n",
    "        sentinel_ndwi_fn(image, threshold)\n",
    "        \n",
    "        sentinel_ndvi_fn(image, threshold)\n",
    "        \n",
    "        sentinel_halite_fn(image, threshold)\n",
    "        \n",
    "        sentinel_gypsum_fn(image, threshold)\n",
    "\n",
    "        sentinel_turbidity_fn(image, threshold)\n",
    "        \n",
    "        sentinel_chlorophyll_fn(image, threshold)\n",
    "        \n",
    "        MaskWaterS2(image)\n",
    "\n",
    "        MaskToWaterS2(image)\n",
    "        \n",
    "        MaskWaterS2ByNDWI(image, threshold)\n",
    "\n",
    "        MaskToWaterS2ByNDWI(image, threshold)\n",
    "\n",
    "        halite_mask(image, threshold)\n",
    "        \n",
    "        gypsum_and_halite_mask(image, halite_threshold, gypsum_threshold)\n",
    "        \n",
    "        MaskCloudsS2(image)\n",
    "        \n",
    "        PixelAreaSum(image, band_name, geometry, threshold=-1, scale=30, maxPixels=1e12)"
   ]
  },
  {
   "cell_type": "code",
   "execution_count": 12,
   "metadata": {},
   "outputs": [
    {
     "name": "stdout",
     "output_type": "stream",
     "text": [
      "Square meters of water in image: 1647329756.0751777\n"
     ]
    }
   ],
   "source": [
    "# adding image date properties to images (very general example)\n",
    "S2_col_date_props = S2_col.collection.map(Sentinel2Collection.image_dater)\n",
    "\n",
    "# masking water from images\n",
    "S2_water_masked_col = S2_col.collection.map(Sentinel2Collection.MaskWaterS2)\n",
    "\n",
    "# calculating the surface area of pixels of interest as square meters(water pixels from NDWI for example)\n",
    "water_area = Sentinel2Collection.PixelAreaSum(image=mosaiced_S2_col.ndwi.image_grab(-1), band_name='ndwi', geometry=salt_lake_geometry, threshold=0, scale=10)\n",
    "\n",
    "print('Square meters of water in image:', water_area.getInfo().get('properties')['ndwi'])"
   ]
  },
  {
   "cell_type": "code",
   "execution_count": 17,
   "metadata": {},
   "outputs": [
    {
     "name": "stdout",
     "output_type": "stream",
     "text": [
      "Square meters of water in images are: [1069594768.6520188, 251369607.87758926, 247235936.65393806, 496807659.3774899, 192290154.215422, 1646335856.4432714]\n",
      "Dates of images: ['2023-06-01', '2023-06-04', '2023-06-06', '2023-06-09', '2023-06-11', '2023-06-14']\n"
     ]
    }
   ],
   "source": [
    "# Showing how to make an image collection with pixel area calculated for all images in the collection (using ndwi images as example), and how to assess \n",
    "# the area calculations using aggregate_array()\n",
    "\n",
    "area_col = mosaiced_S2_col.ndwi.PixelAreaSumCollection(band_name='ndwi', geometry=salt_lake_geometry, threshold=0, scale=50)\n",
    "print('Square meters of water in images are:', area_col.aggregate_array('ndwi').getInfo())\n",
    "print('Dates of images:', mosaiced_S2_col.dates)"
   ]
  }
 ],
 "metadata": {
  "kernelspec": {
   "display_name": "geemap",
   "language": "python",
   "name": "python3"
  },
  "language_info": {
   "codemirror_mode": {
    "name": "ipython",
    "version": 3
   },
   "file_extension": ".py",
   "mimetype": "text/x-python",
   "name": "python",
   "nbconvert_exporter": "python",
   "pygments_lexer": "ipython3",
   "version": "3.11.5"
  }
 },
 "nbformat": 4,
 "nbformat_minor": 2
}
