{
 "cells": [
  {
   "cell_type": "code",
   "execution_count": 1,
   "metadata": {},
   "outputs": [],
   "source": [
    "import ee\n",
    "import geemap\n",
    "import sys\n",
    "sys.path.insert(0, '../RadGEEToolbox')\n",
    "import LandsatCollection\n",
    "import Sentinel2Collection\n",
    "import GetPalette\n",
    "import VisParams"
   ]
  },
  {
   "cell_type": "code",
   "execution_count": 2,
   "metadata": {},
   "outputs": [],
   "source": [
    "ee.Initialize()"
   ]
  },
  {
   "cell_type": "markdown",
   "metadata": {},
   "source": [
    "#### Many attributes, property attributes, methods, and static methods from the RadGEEToolbox package allow for calculating multispectral indices such as NDWI (water), NDVI (vegetation), NDTI (water turbidity), relative chlorophyll-a concentrations, and other indices for mapping evaporites (established by the author of this package - see Radwin & Bowen, 2021). Additionally, Land Surface Temperature (LST) can be easily calculcated for Landsat imagery.\n",
    "\n",
    "#### In addition to multispectral indices, there are easy ways to temporally reduce image collections to mean, median, min, or max images\n",
    "\n",
    "### Let's start with the attributes for multispectral processing - below is a list of the useful attributes and property attributes for the LandsatCollection class\n",
    "    \n",
    "    Attributes:\n",
    "        collection: Returns an ee.ImageCollection object from any LandsatCollection image collection object\n",
    "        \n",
    "\n",
    "    Property attributes:\n",
    "        dates_list (returns: Server-Side List): Unreadable Earth Engine list of image dates (server-side)\n",
    "        \n",
    "        dates (returns: Client-Side List): Readable pythonic list of image dates (client-side)\n",
    "        \n",
    "        masked_clouds_collection (returns: LandsatCollection image collection): Returns collection with clouds masked (transparent) for each image\n",
    "\n",
    "        masked_water_collection (returns: LandsatCollection image collection): Returns collection with water pixels masked (transparent) for each image\n",
    "\n",
    "        masked_to_water_collection (returns: LandsatCollection image collection): Returns collection with pixels masked to water (transparent) for each image (masks land and cloud pixels)\n",
    "\n",
    "        max (returns: ee.Image): Returns a temporally reduced max image (calculates max at each pixel)\n",
    "        \n",
    "        median (returns: ee.Image): Returns a temporally reduced median image (calculates median at each pixel)\n",
    "        \n",
    "        mean (returns: ee.Image): Returns a temporally reduced mean image (calculates mean at each pixel)\n",
    "        \n",
    "        min (returns: ee.Image): Returns a temporally reduced min image (calculates min at each pixel)\n",
    "        \n",
    "        MosaicByDate (returns: LandsatCollection image collection): Mosaics image collection where images with the same date are mosaiced into the same image. Calculates total cloud percentage for subsequent filtering of cloudy mosaics.\n",
    "        \n",
    "        gypsum (returns: ee.ImageCollection): Returns LandsatCollection image collection of singleband gypsum index rasters\n",
    "        \n",
    "        halite (returns: ee.ImageCollection): Returns LandsatCollection image collection of singleband halite index rasters\n",
    "        \n",
    "        LST (returns: ee.ImageCollection): Returns LandsatCollection image collection of singleband land-surface-temperature rasters (Celcius)\n",
    "        \n",
    "        ndwi (returns: ee.ImageCollection): Returns LandsatCollection image collection of singleband NDWI (water) rasters\n",
    "        \n",
    "        ndvi (returns: ee.ImageCollection): Returns LandsatCollection image collection of singleband NDVI (vegetation) rasters\n",
    "\n",
    "        turbidity (returns: ee.ImageCollection): Returns LandsatCollection image collection of singleband NDTI (turbidity) rasters\n",
    "\n",
    "        chlorophyll (returns: ee.ImageCollection): Returns LandsatCollection image collection of singleband KIVU (relative chlorophyll-a) rasters"
   ]
  },
  {
   "cell_type": "code",
   "execution_count": 3,
   "metadata": {},
   "outputs": [
    {
     "name": "stdout",
     "output_type": "stream",
     "text": [
      "{'type': 'Image', 'bands': [{'id': 'ndwi', 'data_type': {'type': 'PixelType', 'precision': 'float', 'min': -1, 'max': 1}, 'dimensions': [7801, 7911], 'crs': 'EPSG:32612', 'crs_transform': [30, 0, 299985, 0, -30, 4583415]}], 'properties': {'DATUM': 'WGS84', 'REFLECTANCE_ADD_BAND_3': -0.2, 'REFLECTANCE_ADD_BAND_4': -0.2, 'REFLECTANCE_ADD_BAND_5': -0.2, 'REFLECTANCE_ADD_BAND_6': -0.2, 'REFLECTANCE_ADD_BAND_7': -0.2, 'REFLECTIVE_SAMPLES': 7801, 'GROUND_CONTROL_POINTS_VERSION': 5, 'SUN_AZIMUTH': 127.82804601, 'UTM_ZONE': 12, 'DATE_ACQUIRED': '2023-06-29', 'ELLIPSOID': 'WGS84', 'DATA_SOURCE_PRESSURE': 'Calculated', 'LANDSAT_PRODUCT_ID': 'LC09_L2SP_038032_20230629_20230703_02_T1', 'STATION_ID': 'LGN', 'TEMPERATURE_ADD_BAND_ST_B10': 149, 'DATA_SOURCE_REANALYSIS': 'GEOS-5 FP-IT', 'REFLECTANCE_MULT_BAND_7': 2.75e-05, 'REFLECTANCE_MULT_BAND_6': 2.75e-05, 'L1_PROCESSING_LEVEL': 'L1TP', 'PROCESSING_SOFTWARE_VERSION': 'LPGS_16.3.0', 'L1_DATE_PRODUCT_GENERATED': '2023-06-29T22:49:40Z', 'ORIENTATION': 'NORTH_UP', 'REFLECTANCE_MULT_BAND_1': 2.75e-05, 'WRS_ROW': 32, 'REFLECTANCE_MULT_BAND_3': 2.75e-05, 'REFLECTANCE_MULT_BAND_2': 2.75e-05, 'TARGET_WRS_ROW': 32, 'REFLECTANCE_MULT_BAND_5': 2.75e-05, 'REFLECTANCE_MULT_BAND_4': 2.75e-05, 'THERMAL_LINES': 7911, 'GRID_CELL_SIZE_THERMAL': 30, 'IMAGE_QUALITY_TIRS': 9, 'NADIR_OFFNADIR': 'NADIR', 'CLOUD_COVER': 17.05, 'REQUEST_ID': '1753970_00036', 'EARTH_SUN_DISTANCE': 1.0165962, 'GEOMETRIC_RMSE_VERIFY': 2.953, 'COLLECTION_CATEGORY': 'T1', 'SCENE_CENTER_TIME': '18:07:38.4176980Z', 'GRID_CELL_SIZE_REFLECTIVE': 30, 'SUN_ELEVATION': 65.41982901, 'ALGORITHM_SOURCE_SURFACE_TEMPERATURE': 'st_1.5.0', 'TEMPERATURE_MAXIMUM_BAND_ST_B10': 372.999941, 'CLOUD_COVER_LAND': 17.05, 'GEOMETRIC_RMSE_MODEL': 5.494, 'ROLL_ANGLE': -0.001, 'COLLECTION_NUMBER': 2, 'DATE_PRODUCT_GENERATED': 1688383045000, 'L1_REQUEST_ID': '1753253_00036', 'DATA_SOURCE_OZONE': 'MODIS', 'Date_Filter': '2023-06-29', 'SATURATION_BAND_1': 'Y', 'DATA_SOURCE_WATER_VAPOR': 'MODIS', 'SATURATION_BAND_2': 'Y', 'SATURATION_BAND_3': 'Y', 'IMAGE_QUALITY_OLI': 9, 'SATURATION_BAND_4': 'Y', 'LANDSAT_SCENE_ID': 'LC90380322023180LGN00', 'SATURATION_BAND_5': 'Y', 'MAP_PROJECTION': 'UTM', 'SATURATION_BAND_6': 'Y', 'SENSOR_ID': 'OLI_TIRS', 'SATURATION_BAND_7': 'Y', 'SATURATION_BAND_8': 'N', 'WRS_PATH': 38, 'L1_PROCESSING_SOFTWARE_VERSION': 'LPGS_16.3.0', 'SATURATION_BAND_9': 'N', 'TARGET_WRS_PATH': 38, 'L1_LANDSAT_PRODUCT_ID': 'LC09_L1TP_038032_20230629_20230629_02_T1', 'TEMPERATURE_MULT_BAND_ST_B10': 0.00341802, 'PROCESSING_LEVEL': 'L2SP', 'ALGORITHM_SOURCE_SURFACE_REFLECTANCE': 'LaSRC_1.6.0', 'GROUND_CONTROL_POINTS_MODEL': 815, 'SPACECRAFT_ID': 'LANDSAT_9', 'TEMPERATURE_MINIMUM_BAND_ST_B10': 149.003418, 'GEOMETRIC_RMSE_MODEL_Y': 4.122, 'REFLECTIVE_LINES': 7911, 'GEOMETRIC_RMSE_MODEL_X': 3.632, 'THERMAL_SAMPLES': 7801, 'DATA_SOURCE_AIR_TEMPERATURE': 'MODIS', 'GROUND_CONTROL_POINTS_VERIFY': 256, 'system:index': '1_2_LC09_038032_20230629', 'REFLECTANCE_ADD_BAND_1': -0.2, 'REFLECTANCE_ADD_BAND_2': -0.2, 'system:footprint': {'type': 'LinearRing', 'coordinates': [[-112.78236234311687, 41.381496311623046], [-112.7828468571206, 41.38127467827299], [-113.03699217030727, 40.55215242760243], [-113.28314885990125, 39.72990390321096], [-113.30203658611967, 39.66601287059804], [-113.30200214996015, 39.6649745040283], [-113.30073146352068, 39.66451450795297], [-113.2507287609539, 39.6556147936378], [-112.97448675903267, 39.606044891213735], [-112.16025790761277, 39.455660010631746], [-111.48638086611322, 39.32635193622288], [-111.19445623169885, 39.26896988677842], [-111.19381200189447, 39.26947282867499], [-111.19205460711794, 39.27360003262779], [-110.9081638787159, 40.13060765527792], [-110.8073098085186, 40.43076601738683], [-110.6208581161793, 40.98384647836079], [-111.00425596572151, 41.05771532512864], [-112.57739344032544, 41.345787061221934], [-112.7488761971872, 41.375734161356064], [-112.78236234311687, 41.381496311623046]]}, 'DATA_SOURCE_ELEVATION': 'GLS2000', 'WRS_TYPE': 2}}\n",
      "{'type': 'Image', 'bands': [{'id': 'LST', 'data_type': {'type': 'PixelType', 'precision': 'double'}, 'dimensions': [7801, 7911], 'crs': 'EPSG:32612', 'crs_transform': [30, 0, 299985, 0, -30, 4583415]}], 'id': 'LANDSAT/LC09/C02/T1_L2/LC09_038032_20230629', 'version': 1688478513316281, 'properties': {'Date_Filter': '2023-06-29', 'system:index': '1_2_LC09_038032_20230629', 'DATA_SOURCE_ELEVATION': 'GLS2000', 'WRS_TYPE': 2, 'REFLECTANCE_ADD_BAND_1': -0.2, 'REFLECTANCE_ADD_BAND_2': -0.2, 'DATUM': 'WGS84', 'REFLECTANCE_ADD_BAND_3': -0.2, 'REFLECTANCE_ADD_BAND_4': -0.2, 'REFLECTANCE_ADD_BAND_5': -0.2, 'REFLECTANCE_ADD_BAND_6': -0.2, 'REFLECTANCE_ADD_BAND_7': -0.2, 'system:footprint': {'type': 'LinearRing', 'coordinates': [[-112.78236234311687, 41.381496311623046], [-112.7828468571206, 41.38127467827299], [-113.03699217030727, 40.55215242760243], [-113.28314885990125, 39.72990390321096], [-113.30203658611967, 39.66601287059804], [-113.30200214996015, 39.6649745040283], [-113.30073146352068, 39.66451450795297], [-113.2507287609539, 39.6556147936378], [-112.97448675903267, 39.606044891213735], [-112.16025790761277, 39.455660010631746], [-111.48638086611322, 39.32635193622288], [-111.19445623169885, 39.26896988677842], [-111.19381200189447, 39.26947282867499], [-111.19205460711794, 39.27360003262779], [-110.9081638787159, 40.13060765527792], [-110.8073098085186, 40.43076601738683], [-110.6208581161793, 40.98384647836079], [-111.00425596572151, 41.05771532512864], [-112.57739344032544, 41.345787061221934], [-112.7488761971872, 41.375734161356064], [-112.78236234311687, 41.381496311623046]]}, 'REFLECTIVE_SAMPLES': 7801, 'GROUND_CONTROL_POINTS_VERSION': 5, 'SUN_AZIMUTH': 127.82804601, 'UTM_ZONE': 12, 'DATE_ACQUIRED': '2023-06-29', 'ELLIPSOID': 'WGS84', 'system:time_end': 1688062058417, 'DATA_SOURCE_PRESSURE': 'Calculated', 'LANDSAT_PRODUCT_ID': 'LC09_L2SP_038032_20230629_20230703_02_T1', 'STATION_ID': 'LGN', 'TEMPERATURE_ADD_BAND_ST_B10': 149, 'DATA_SOURCE_REANALYSIS': 'GEOS-5 FP-IT', 'REFLECTANCE_MULT_BAND_7': 2.75e-05, 'system:time_start': 1688062058417, 'REFLECTANCE_MULT_BAND_6': 2.75e-05, 'L1_PROCESSING_LEVEL': 'L1TP', 'PROCESSING_SOFTWARE_VERSION': 'LPGS_16.3.0', 'L1_DATE_PRODUCT_GENERATED': '2023-06-29T22:49:40Z', 'ORIENTATION': 'NORTH_UP', 'REFLECTANCE_MULT_BAND_1': 2.75e-05, 'WRS_ROW': 32, 'REFLECTANCE_MULT_BAND_3': 2.75e-05, 'REFLECTANCE_MULT_BAND_2': 2.75e-05, 'TARGET_WRS_ROW': 32, 'REFLECTANCE_MULT_BAND_5': 2.75e-05, 'REFLECTANCE_MULT_BAND_4': 2.75e-05, 'THERMAL_LINES': 7911, 'GRID_CELL_SIZE_THERMAL': 30, 'IMAGE_QUALITY_TIRS': 9, 'NADIR_OFFNADIR': 'NADIR', 'CLOUD_COVER': 17.05, 'REQUEST_ID': '1753970_00036', 'EARTH_SUN_DISTANCE': 1.0165962, 'GEOMETRIC_RMSE_VERIFY': 2.953, 'COLLECTION_CATEGORY': 'T1', 'SCENE_CENTER_TIME': '18:07:38.4176980Z', 'GRID_CELL_SIZE_REFLECTIVE': 30, 'SUN_ELEVATION': 65.41982901, 'ALGORITHM_SOURCE_SURFACE_TEMPERATURE': 'st_1.5.0', 'TEMPERATURE_MAXIMUM_BAND_ST_B10': 372.999941, 'CLOUD_COVER_LAND': 17.05, 'GEOMETRIC_RMSE_MODEL': 5.494, 'ROLL_ANGLE': -0.001, 'COLLECTION_NUMBER': 2, 'DATE_PRODUCT_GENERATED': 1688383045000, 'L1_REQUEST_ID': '1753253_00036', 'DATA_SOURCE_OZONE': 'MODIS', 'SATURATION_BAND_1': 'Y', 'DATA_SOURCE_WATER_VAPOR': 'MODIS', 'SATURATION_BAND_2': 'Y', 'SATURATION_BAND_3': 'Y', 'IMAGE_QUALITY_OLI': 9, 'SATURATION_BAND_4': 'Y', 'LANDSAT_SCENE_ID': 'LC90380322023180LGN00', 'SATURATION_BAND_5': 'Y', 'MAP_PROJECTION': 'UTM', 'SATURATION_BAND_6': 'Y', 'SENSOR_ID': 'OLI_TIRS', 'SATURATION_BAND_7': 'Y', 'SATURATION_BAND_8': 'N', 'WRS_PATH': 38, 'L1_PROCESSING_SOFTWARE_VERSION': 'LPGS_16.3.0', 'SATURATION_BAND_9': 'N', 'TARGET_WRS_PATH': 38, 'L1_LANDSAT_PRODUCT_ID': 'LC09_L1TP_038032_20230629_20230629_02_T1', 'TEMPERATURE_MULT_BAND_ST_B10': 0.00341802, 'PROCESSING_LEVEL': 'L2SP', 'ALGORITHM_SOURCE_SURFACE_REFLECTANCE': 'LaSRC_1.6.0', 'GROUND_CONTROL_POINTS_MODEL': 815, 'SPACECRAFT_ID': 'LANDSAT_9', 'TEMPERATURE_MINIMUM_BAND_ST_B10': 149.003418, 'GEOMETRIC_RMSE_MODEL_Y': 4.122, 'REFLECTIVE_LINES': 7911, 'GEOMETRIC_RMSE_MODEL_X': 3.632, 'THERMAL_SAMPLES': 7801, 'system:asset_size': 1031187054, 'DATA_SOURCE_AIR_TEMPERATURE': 'MODIS', 'GROUND_CONTROL_POINTS_VERIFY': 256}}\n"
     ]
    }
   ],
   "source": [
    "# First we need an image collection\n",
    "col = LandsatCollection.LandsatCollection(start_date='2023-06-01', end_date='2023-06-30', tile_row=32, tile_path=38)\n",
    "\n",
    "#Then it is as easy as calling the desired attribute for multispectral indices\n",
    "NDWI = col.ndwi\n",
    "NDVI = col.ndvi\n",
    "NDTI = col.turbidity\n",
    "halite = col.halite\n",
    "gypsum = col.gypsum\n",
    "chlorophyll = col.chlorophyll\n",
    "surface_temperature = col.LST\n",
    "\n",
    "print(NDWI.image_grab(-1).getInfo())\n",
    "print(surface_temperature.image_grab(-1).select('LST').getInfo())\n",
    "\n",
    "# Temporal reductions of image collections\n",
    "mean_img = col.mean\n",
    "min_img = col.min\n",
    "median_img = col.median\n",
    "max_img = col.max\n",
    "\n",
    "#Temporal reductions can be applied to multispectral indices as well\n",
    "mean_chlorophyll = chlorophyll.mean\n"
   ]
  },
  {
   "cell_type": "markdown",
   "metadata": {},
   "source": [
    "#### Note that by using attributes you use the already defined thresholds for masking the images, which is typically -1 for normalized indices and results in no pixels being masked. If you want to mask each image to pixels above a threshold, you can use method functions and specify the desired threshold.\n",
    "    Methods:\n",
    "        get_filtered_collection(self)\n",
    "\n",
    "        get_boundary_filtered_collection(self)\n",
    "        \n",
    "        ndwi_collection(self, threshold, ng_threshold=None)\n",
    "        \n",
    "        ndvi_collection(self, threshold, ng_threshold=None)\n",
    "        \n",
    "        halite_collection(self, threshold, ng_threshold=None)\n",
    "        \n",
    "        gypsum_collection(self, threshold, ng_threshold=None)\n",
    "\n",
    "        turbidity_collection(self, threshold, ng_threshold=None)\n",
    "\n",
    "        chlorophyll_collection(self, threshold, ng_threshold=None)\n",
    "\n",
    "        masked_water_collection_NDWI(self, threshold)\n",
    "\n",
    "        masked_to_water_collection_NDWI(self, threshold)\n",
    "        \n",
    "        surface_temperature_collection(self)\n",
    "        \n",
    "        mask_to_polygon(self, polygon)\n",
    "\n",
    "        mask_out_polygon(self, polygon)\n",
    "        \n",
    "        mask_halite(self, threshold, ng_threshold=None)\n",
    "        \n",
    "        mask_halite_and_gypsum(self, halite_threshold, gypsum_threshold, halite_ng_threshold=None, gypsum_ng_threshold=None)\n",
    "        \n",
    "        image_grab(self, img_selector)\n",
    "        \n",
    "        custom_image_grab(self, img_col, img_selector)\n",
    "        \n",
    "        image_pick(self, img_date)\n",
    "        \n",
    "        CollectionStitch(self, img_col2)"
   ]
  },
  {
   "cell_type": "code",
   "execution_count": 4,
   "metadata": {},
   "outputs": [],
   "source": [
    "#Using methods to calculate multispectral indices\n",
    "\n",
    "NDWI = col.ndwi_collection(threshold=0)\n",
    "NDVI = col.ndvi_collection(threshold=0.3)\n",
    "turbidity = col.turbidity_collection(threshold=0)\n",
    "\n",
    "#If you will be using Landsat 5 and Landsat 8 or 9 imagery together in a collection, you can specify different thresholds \n",
    "# for TM vs OLI sensors where ng_threshold means \"next generation\" threshold for newer sensors\n",
    "NDWI = col.ndwi_collection(threshold=0, ng_threshold=0.2)"
   ]
  },
  {
   "cell_type": "markdown",
   "metadata": {},
   "source": [
    "#### Similar goes for any static methods, you can use these to process multispectral indices for Earth Engine image objects\n",
    "    Static Methods:\n",
    "        image_dater(image)\n",
    "        \n",
    "        landsat5bandrename(img)\n",
    "        \n",
    "        landsat_ndwi_fn(image, threshold, ng_threshold=None)\n",
    "        \n",
    "        landsat_ndvi_fn(image, threshold, ng_threshold=None)\n",
    "        \n",
    "        landsat_halite_fn(image, threshold, ng_threshold=None)\n",
    "        \n",
    "        landsat_gypsum_fn(image, threshold, ng_threshold=None)\n",
    "\n",
    "        landsat_ndti_fn(image, threshold, ng_threshold=None)\n",
    "\n",
    "        landsat_kivu_chla_fn(image, threshold, ng_threshold=None)\n",
    "        \n",
    "        MaskWaterLandsat(image)\n",
    "\n",
    "        MaskToWaterLandsat(image)\n",
    "\n",
    "        MaskWaterLandsatByNDWI(image, threshold, ng_threshold=None)\n",
    "\n",
    "        MaskToWaterLandsatByNDWI(image, threshold, ng_threshold=None)\n",
    "        \n",
    "        halite_mask(image, threshold, ng_threshold=None)\n",
    "        \n",
    "        gypsum_and_halite_mask(image, halite_threshold, gypsum_threshold, halite_ng_threshold=None, gypsum_ng_threshold=None)\n",
    "        \n",
    "        maskL8clouds(image)\n",
    "        \n",
    "        temperature_bands(img)\n",
    "        \n",
    "        landsat_LST(image)\n",
    "        \n",
    "        PixelAreaSum(image, band_name, geometry, threshold=-1, scale=30, maxPixels=1e12)\n",
    "        \n",
    "        dNDWIPixelAreaSum(image, geometry, band_name='ndwi', scale=30, maxPixels=1e12)"
   ]
  },
  {
   "cell_type": "code",
   "execution_count": 5,
   "metadata": {},
   "outputs": [
    {
     "name": "stdout",
     "output_type": "stream",
     "text": [
      "{'type': 'ImageCollection', 'bands': [], 'features': [{'type': 'Image', 'bands': [{'id': 'ndwi', 'data_type': {'type': 'PixelType', 'precision': 'float', 'min': -1, 'max': 1}, 'dimensions': [7801, 7921], 'crs': 'EPSG:32612', 'crs_transform': [30, 0, 302085, 0, -30, 4583415]}], 'properties': {'DATUM': 'WGS84', 'REFLECTANCE_ADD_BAND_3': -0.2, 'REFLECTANCE_ADD_BAND_4': -0.2, 'REFLECTANCE_ADD_BAND_5': -0.2, 'REFLECTANCE_ADD_BAND_6': -0.2, 'REFLECTANCE_ADD_BAND_7': -0.2, 'REFLECTIVE_SAMPLES': 7801, 'GROUND_CONTROL_POINTS_VERSION': 5, 'SUN_AZIMUTH': 130.95887584, 'DATA_SOURCE_TIRS_STRAY_LIGHT_CORRECTION': 'TIRS', 'UTM_ZONE': 12, 'DATE_ACQUIRED': '2023-06-05', 'ELLIPSOID': 'WGS84', 'DATA_SOURCE_PRESSURE': 'Calculated', 'LANDSAT_PRODUCT_ID': 'LC08_L2SP_038032_20230605_20230613_02_T1', 'STATION_ID': 'LGN', 'TEMPERATURE_ADD_BAND_ST_B10': 149, 'DATA_SOURCE_REANALYSIS': 'GEOS-5 FP-IT', 'REFLECTANCE_MULT_BAND_7': 2.75e-05, 'REFLECTANCE_MULT_BAND_6': 2.75e-05, 'L1_PROCESSING_LEVEL': 'L1TP', 'PROCESSING_SOFTWARE_VERSION': 'LPGS_16.3.0', 'L1_DATE_PRODUCT_GENERATED': '2023-06-13T20:57:29Z', 'ORIENTATION': 'NORTH_UP', 'REFLECTANCE_MULT_BAND_1': 2.75e-05, 'WRS_ROW': 32, 'REFLECTANCE_MULT_BAND_3': 2.75e-05, 'REFLECTANCE_MULT_BAND_2': 2.75e-05, 'TARGET_WRS_ROW': 32, 'REFLECTANCE_MULT_BAND_5': 2.75e-05, 'REFLECTANCE_MULT_BAND_4': 2.75e-05, 'THERMAL_LINES': 7921, 'TIRS_SSM_POSITION_STATUS': 'ESTIMATED', 'GRID_CELL_SIZE_THERMAL': 30, 'IMAGE_QUALITY_TIRS': 9, 'TRUNCATION_OLI': 'UPPER', 'NADIR_OFFNADIR': 'NADIR', 'CLOUD_COVER': 30.62, 'REQUEST_ID': '1745422_00036', 'EARTH_SUN_DISTANCE': 1.0145606, 'GEOMETRIC_RMSE_VERIFY': 3.128, 'TIRS_SSM_MODEL': 'FINAL', 'COLLECTION_CATEGORY': 'T1', 'SCENE_CENTER_TIME': '18:07:34.1078910Z', 'GRID_CELL_SIZE_REFLECTIVE': 30, 'SUN_ELEVATION': 65.6709585, 'ALGORITHM_SOURCE_SURFACE_TEMPERATURE': 'st_1.5.0', 'TEMPERATURE_MAXIMUM_BAND_ST_B10': 372.999941, 'CLOUD_COVER_LAND': 30.62, 'GEOMETRIC_RMSE_MODEL': 6.034, 'ROLL_ANGLE': -0.001, 'COLLECTION_NUMBER': 2, 'DATE_PRODUCT_GENERATED': 1686691257000, 'L1_REQUEST_ID': '1745422_00036', 'DATA_SOURCE_OZONE': 'MODIS', 'Date_Filter': '2023-06-05', 'SATURATION_BAND_1': 'Y', 'DATA_SOURCE_WATER_VAPOR': 'MODIS', 'SATURATION_BAND_2': 'Y', 'SATURATION_BAND_3': 'Y', 'IMAGE_QUALITY_OLI': 9, 'SATURATION_BAND_4': 'Y', 'LANDSAT_SCENE_ID': 'LC80380322023156LGN00', 'SATURATION_BAND_5': 'Y', 'MAP_PROJECTION': 'UTM', 'SATURATION_BAND_6': 'Y', 'SENSOR_ID': 'OLI_TIRS', 'SATURATION_BAND_7': 'Y', 'SATURATION_BAND_8': 'N', 'WRS_PATH': 38, 'SATURATION_BAND_9': 'N', 'TARGET_WRS_PATH': 38, 'L1_PROCESSING_SOFTWARE_VERSION': 'LPGS_16.3.0', 'TEMPERATURE_MULT_BAND_ST_B10': 0.00341802, 'L1_LANDSAT_PRODUCT_ID': 'LC08_L1TP_038032_20230605_20230613_02_T1', 'PROCESSING_LEVEL': 'L2SP', 'ALGORITHM_SOURCE_SURFACE_REFLECTANCE': 'LaSRC_1.6.0', 'GROUND_CONTROL_POINTS_MODEL': 597, 'SPACECRAFT_ID': 'LANDSAT_8', 'TEMPERATURE_MINIMUM_BAND_ST_B10': 149.003418, 'GEOMETRIC_RMSE_MODEL_Y': 4.556, 'REFLECTIVE_LINES': 7921, 'GEOMETRIC_RMSE_MODEL_X': 3.956, 'THERMAL_SAMPLES': 7801, 'DATA_SOURCE_AIR_TEMPERATURE': 'MODIS', 'GROUND_CONTROL_POINTS_VERIFY': 222, 'system:index': '1_1_LC08_038032_20230605', 'REFLECTANCE_ADD_BAND_1': -0.2, 'REFLECTANCE_ADD_BAND_2': -0.2, 'system:footprint': {'type': 'LinearRing', 'coordinates': [[-112.7624119581664, 41.38292648834327], [-112.76539256289513, 41.37339541180757], [-113.02616956124189, 40.52221072090214], [-113.28187477593949, 39.66698861175432], [-113.27941755532535, 39.66640874972109], [-111.93658812579724, 39.417670199639566], [-111.22623063655683, 39.279030224854225], [-111.18141765964629, 39.2701252664312], [-111.18092980496128, 39.27088739731117], [-111.17918970275626, 39.27497221123401], [-110.87530452932316, 40.19166172188103], [-110.79814142339272, 40.421561124117225], [-110.62952466693476, 40.92220942949425], [-110.60848230568564, 40.98430007648995], [-110.60847757719209, 40.985109362043204], [-110.61274459626898, 40.98600669511552], [-110.89539001432176, 41.040912713870654], [-112.6326407591917, 41.36122928246365], [-112.7368507815844, 41.37951002857383], [-112.76185142307956, 41.38381558417251], [-112.7624119581664, 41.38292648834327]]}, 'DATA_SOURCE_ELEVATION': 'GLS2000', 'WRS_TYPE': 2}}, {'type': 'Image', 'bands': [{'id': 'ndwi', 'data_type': {'type': 'PixelType', 'precision': 'float', 'min': -1, 'max': 1}, 'dimensions': [7791, 7911], 'crs': 'EPSG:32612', 'crs_transform': [30, 0, 296385, 0, -30, 4583415]}], 'properties': {'DATUM': 'WGS84', 'REFLECTANCE_ADD_BAND_3': -0.2, 'REFLECTANCE_ADD_BAND_4': -0.2, 'REFLECTANCE_ADD_BAND_5': -0.2, 'REFLECTANCE_ADD_BAND_6': -0.2, 'REFLECTANCE_ADD_BAND_7': -0.2, 'REFLECTIVE_SAMPLES': 7791, 'GROUND_CONTROL_POINTS_VERSION': 5, 'SUN_AZIMUTH': 129.14467753, 'UTM_ZONE': 12, 'DATE_ACQUIRED': '2023-06-13', 'ELLIPSOID': 'WGS84', 'DATA_SOURCE_PRESSURE': 'Calculated', 'LANDSAT_PRODUCT_ID': 'LC09_L2SP_038032_20230613_20230615_02_T1', 'STATION_ID': 'LGN', 'TEMPERATURE_ADD_BAND_ST_B10': 149, 'DATA_SOURCE_REANALYSIS': 'GEOS-5 FP-IT', 'REFLECTANCE_MULT_BAND_7': 2.75e-05, 'REFLECTANCE_MULT_BAND_6': 2.75e-05, 'L1_PROCESSING_LEVEL': 'L1TP', 'PROCESSING_SOFTWARE_VERSION': 'LPGS_16.3.0', 'L1_DATE_PRODUCT_GENERATED': '2023-06-14T03:08:52Z', 'ORIENTATION': 'NORTH_UP', 'REFLECTANCE_MULT_BAND_1': 2.75e-05, 'WRS_ROW': 32, 'REFLECTANCE_MULT_BAND_3': 2.75e-05, 'REFLECTANCE_MULT_BAND_2': 2.75e-05, 'TARGET_WRS_ROW': 32, 'REFLECTANCE_MULT_BAND_5': 2.75e-05, 'REFLECTANCE_MULT_BAND_4': 2.75e-05, 'THERMAL_LINES': 7911, 'GRID_CELL_SIZE_THERMAL': 30, 'IMAGE_QUALITY_TIRS': 9, 'NADIR_OFFNADIR': 'NADIR', 'CLOUD_COVER': 70.71, 'REQUEST_ID': '1746865_00036', 'EARTH_SUN_DISTANCE': 1.0155727, 'COLLECTION_CATEGORY': 'T1', 'SCENE_CENTER_TIME': '18:07:32.7076640Z', 'GRID_CELL_SIZE_REFLECTIVE': 30, 'SUN_ELEVATION': 65.9012224, 'ALGORITHM_SOURCE_SURFACE_TEMPERATURE': 'st_1.5.0', 'TEMPERATURE_MAXIMUM_BAND_ST_B10': 372.999941, 'CLOUD_COVER_LAND': 70.71, 'GEOMETRIC_RMSE_MODEL': 7.202, 'ROLL_ANGLE': -0.001, 'COLLECTION_NUMBER': 2, 'DATE_PRODUCT_GENERATED': 1686807629000, 'L1_REQUEST_ID': '1746264_00036', 'DATA_SOURCE_OZONE': 'MODIS', 'Date_Filter': '2023-06-13', 'SATURATION_BAND_1': 'Y', 'DATA_SOURCE_WATER_VAPOR': 'MODIS', 'SATURATION_BAND_2': 'Y', 'SATURATION_BAND_3': 'Y', 'IMAGE_QUALITY_OLI': 9, 'SATURATION_BAND_4': 'Y', 'LANDSAT_SCENE_ID': 'LC90380322023164LGN00', 'SATURATION_BAND_5': 'Y', 'MAP_PROJECTION': 'UTM', 'SATURATION_BAND_6': 'Y', 'SENSOR_ID': 'OLI_TIRS', 'SATURATION_BAND_7': 'Y', 'SATURATION_BAND_8': 'N', 'WRS_PATH': 38, 'L1_PROCESSING_SOFTWARE_VERSION': 'LPGS_16.3.0', 'SATURATION_BAND_9': 'N', 'TARGET_WRS_PATH': 38, 'L1_LANDSAT_PRODUCT_ID': 'LC09_L1TP_038032_20230613_20230614_02_T1', 'TEMPERATURE_MULT_BAND_ST_B10': 0.00341802, 'PROCESSING_LEVEL': 'L2SP', 'ALGORITHM_SOURCE_SURFACE_REFLECTANCE': 'LaSRC_1.6.0', 'GROUND_CONTROL_POINTS_MODEL': 215, 'SPACECRAFT_ID': 'LANDSAT_9', 'TEMPERATURE_MINIMUM_BAND_ST_B10': 149.003418, 'GEOMETRIC_RMSE_MODEL_Y': 5.2, 'REFLECTIVE_LINES': 7911, 'GEOMETRIC_RMSE_MODEL_X': 4.983, 'THERMAL_SAMPLES': 7791, 'DATA_SOURCE_AIR_TEMPERATURE': 'MODIS', 'system:index': '1_2_LC09_038032_20230613', 'REFLECTANCE_ADD_BAND_1': -0.2, 'REFLECTANCE_ADD_BAND_2': -0.2, 'system:footprint': {'type': 'LinearRing', 'coordinates': [[-111.42639505410942, 39.30658307091215], [-111.24985592938836, 39.27195313297875], [-111.2379367344535, 39.26966343929326], [-111.23312240334353, 39.28245039919498], [-110.95570569353626, 40.12306762124624], [-110.92497268833114, 40.21521958215272], [-110.83928395068904, 40.47151192850467], [-110.66668830808102, 40.985038619131], [-110.70306332548635, 40.992107718260776], [-110.93037541175931, 41.0358046083858], [-111.38915167896147, 41.1224569832937], [-112.5419076053685, 41.331135833715564], [-112.77387453499391, 41.371568474459366], [-112.82806796108129, 41.38087673107203], [-113.08975957260763, 40.5229693372427], [-113.3455488349679, 39.663648255770084], [-113.17872079493317, 39.634015177063986], [-112.30741439333941, 39.47491208879582], [-111.7241451548479, 39.36431198352134], [-111.42639505410942, 39.30658307091215]]}, 'DATA_SOURCE_ELEVATION': 'GLS2000', 'WRS_TYPE': 2}}, {'type': 'Image', 'bands': [{'id': 'ndwi', 'data_type': {'type': 'PixelType', 'precision': 'float', 'min': -1, 'max': 1}, 'dimensions': [7791, 7921], 'crs': 'EPSG:32612', 'crs_transform': [30, 0, 302985, 0, -30, 4583415]}], 'properties': {'DATUM': 'WGS84', 'REFLECTANCE_ADD_BAND_3': -0.2, 'REFLECTANCE_ADD_BAND_4': -0.2, 'REFLECTANCE_ADD_BAND_5': -0.2, 'REFLECTANCE_ADD_BAND_6': -0.2, 'REFLECTANCE_ADD_BAND_7': -0.2, 'REFLECTIVE_SAMPLES': 7791, 'GROUND_CONTROL_POINTS_VERSION': 5, 'SUN_AZIMUTH': 128.24625554, 'DATA_SOURCE_TIRS_STRAY_LIGHT_CORRECTION': 'TIRS', 'UTM_ZONE': 12, 'DATE_ACQUIRED': '2023-06-21', 'ELLIPSOID': 'WGS84', 'DATA_SOURCE_PRESSURE': 'Calculated', 'LANDSAT_PRODUCT_ID': 'LC08_L2SP_038032_20230621_20230630_02_T1', 'STATION_ID': 'LGN', 'TEMPERATURE_ADD_BAND_ST_B10': 149, 'DATA_SOURCE_REANALYSIS': 'GEOS-5 FP-IT', 'REFLECTANCE_MULT_BAND_7': 2.75e-05, 'REFLECTANCE_MULT_BAND_6': 2.75e-05, 'L1_PROCESSING_LEVEL': 'L1TP', 'PROCESSING_SOFTWARE_VERSION': 'LPGS_16.3.0', 'L1_DATE_PRODUCT_GENERATED': '2023-06-30T03:45:38Z', 'ORIENTATION': 'NORTH_UP', 'REFLECTANCE_MULT_BAND_1': 2.75e-05, 'WRS_ROW': 32, 'REFLECTANCE_MULT_BAND_3': 2.75e-05, 'REFLECTANCE_MULT_BAND_2': 2.75e-05, 'TARGET_WRS_ROW': 32, 'REFLECTANCE_MULT_BAND_5': 2.75e-05, 'REFLECTANCE_MULT_BAND_4': 2.75e-05, 'THERMAL_LINES': 7921, 'TIRS_SSM_POSITION_STATUS': 'ESTIMATED', 'GRID_CELL_SIZE_THERMAL': 30, 'IMAGE_QUALITY_TIRS': 9, 'TRUNCATION_OLI': 'UPPER', 'NADIR_OFFNADIR': 'NADIR', 'CLOUD_COVER': 2.99, 'REQUEST_ID': '1752742_00036', 'EARTH_SUN_DISTANCE': 1.016259, 'GEOMETRIC_RMSE_VERIFY': 2.682, 'TIRS_SSM_MODEL': 'FINAL', 'COLLECTION_CATEGORY': 'T1', 'SCENE_CENTER_TIME': '18:07:40.0342960Z', 'GRID_CELL_SIZE_REFLECTIVE': 30, 'SUN_ELEVATION': 65.86947224, 'ALGORITHM_SOURCE_SURFACE_TEMPERATURE': 'st_1.5.0', 'TEMPERATURE_MAXIMUM_BAND_ST_B10': 372.999941, 'CLOUD_COVER_LAND': 2.99, 'GEOMETRIC_RMSE_MODEL': 5.622, 'ROLL_ANGLE': -0.001, 'COLLECTION_NUMBER': 2, 'DATE_PRODUCT_GENERATED': 1688098109000, 'L1_REQUEST_ID': '1752742_00036', 'DATA_SOURCE_OZONE': 'MODIS', 'Date_Filter': '2023-06-21', 'SATURATION_BAND_1': 'N', 'DATA_SOURCE_WATER_VAPOR': 'MODIS', 'SATURATION_BAND_2': 'N', 'SATURATION_BAND_3': 'Y', 'IMAGE_QUALITY_OLI': 9, 'SATURATION_BAND_4': 'Y', 'LANDSAT_SCENE_ID': 'LC80380322023172LGN00', 'SATURATION_BAND_5': 'Y', 'MAP_PROJECTION': 'UTM', 'SATURATION_BAND_6': 'Y', 'SENSOR_ID': 'OLI_TIRS', 'SATURATION_BAND_7': 'Y', 'SATURATION_BAND_8': 'N', 'WRS_PATH': 38, 'SATURATION_BAND_9': 'N', 'TARGET_WRS_PATH': 38, 'L1_PROCESSING_SOFTWARE_VERSION': 'LPGS_16.3.0', 'TEMPERATURE_MULT_BAND_ST_B10': 0.00341802, 'L1_LANDSAT_PRODUCT_ID': 'LC08_L1TP_038032_20230621_20230630_02_T1', 'PROCESSING_LEVEL': 'L2SP', 'ALGORITHM_SOURCE_SURFACE_REFLECTANCE': 'LaSRC_1.6.0', 'GROUND_CONTROL_POINTS_MODEL': 909, 'SPACECRAFT_ID': 'LANDSAT_8', 'TEMPERATURE_MINIMUM_BAND_ST_B10': 149.003418, 'GEOMETRIC_RMSE_MODEL_Y': 4.134, 'REFLECTIVE_LINES': 7921, 'GEOMETRIC_RMSE_MODEL_X': 3.81, 'THERMAL_SAMPLES': 7791, 'DATA_SOURCE_AIR_TEMPERATURE': 'MODIS', 'GROUND_CONTROL_POINTS_VERIFY': 236, 'system:index': '1_1_LC08_038032_20230621', 'REFLECTANCE_ADD_BAND_1': -0.2, 'REFLECTANCE_ADD_BAND_2': -0.2, 'system:footprint': {'type': 'LinearRing', 'coordinates': [[-112.75322341594308, 41.383271362121825], [-112.7538643317823, 41.38276864349693], [-113.01572520657774, 40.528203604162975], [-113.27021909552008, 39.677184288029366], [-113.27305552695559, 39.66736631270371], [-113.27301854511222, 39.666238263764285], [-113.23230468889169, 39.65894356408898], [-112.92866008563828, 39.60411211275331], [-111.99880693229721, 39.4306682665387], [-111.17451774947381, 39.26991947345506], [-111.17281794988826, 39.26992193883038], [-111.1711869220607, 39.27417723903013], [-110.88809495993736, 40.129238646243024], [-110.86719837755574, 40.19165284028886], [-110.79143492699511, 40.41749510985585], [-110.60028340148403, 40.983719632075825], [-110.60027767277539, 40.984672368452394], [-110.60945073796914, 40.98651933361583], [-111.73524356630396, 41.200487752804285], [-112.73428143483021, 41.38000825301653], [-112.75322341594308, 41.383271362121825]]}, 'DATA_SOURCE_ELEVATION': 'GLS2000', 'WRS_TYPE': 2}}, {'type': 'Image', 'bands': [{'id': 'ndwi', 'data_type': {'type': 'PixelType', 'precision': 'float', 'min': -1, 'max': 1}, 'dimensions': [7801, 7911], 'crs': 'EPSG:32612', 'crs_transform': [30, 0, 299985, 0, -30, 4583415]}], 'properties': {'DATUM': 'WGS84', 'REFLECTANCE_ADD_BAND_3': -0.2, 'REFLECTANCE_ADD_BAND_4': -0.2, 'REFLECTANCE_ADD_BAND_5': -0.2, 'REFLECTANCE_ADD_BAND_6': -0.2, 'REFLECTANCE_ADD_BAND_7': -0.2, 'REFLECTIVE_SAMPLES': 7801, 'GROUND_CONTROL_POINTS_VERSION': 5, 'SUN_AZIMUTH': 127.82804601, 'UTM_ZONE': 12, 'DATE_ACQUIRED': '2023-06-29', 'ELLIPSOID': 'WGS84', 'DATA_SOURCE_PRESSURE': 'Calculated', 'LANDSAT_PRODUCT_ID': 'LC09_L2SP_038032_20230629_20230703_02_T1', 'STATION_ID': 'LGN', 'TEMPERATURE_ADD_BAND_ST_B10': 149, 'DATA_SOURCE_REANALYSIS': 'GEOS-5 FP-IT', 'REFLECTANCE_MULT_BAND_7': 2.75e-05, 'REFLECTANCE_MULT_BAND_6': 2.75e-05, 'L1_PROCESSING_LEVEL': 'L1TP', 'PROCESSING_SOFTWARE_VERSION': 'LPGS_16.3.0', 'L1_DATE_PRODUCT_GENERATED': '2023-06-29T22:49:40Z', 'ORIENTATION': 'NORTH_UP', 'REFLECTANCE_MULT_BAND_1': 2.75e-05, 'WRS_ROW': 32, 'REFLECTANCE_MULT_BAND_3': 2.75e-05, 'REFLECTANCE_MULT_BAND_2': 2.75e-05, 'TARGET_WRS_ROW': 32, 'REFLECTANCE_MULT_BAND_5': 2.75e-05, 'REFLECTANCE_MULT_BAND_4': 2.75e-05, 'THERMAL_LINES': 7911, 'GRID_CELL_SIZE_THERMAL': 30, 'IMAGE_QUALITY_TIRS': 9, 'NADIR_OFFNADIR': 'NADIR', 'CLOUD_COVER': 17.05, 'REQUEST_ID': '1753970_00036', 'EARTH_SUN_DISTANCE': 1.0165962, 'GEOMETRIC_RMSE_VERIFY': 2.953, 'COLLECTION_CATEGORY': 'T1', 'SCENE_CENTER_TIME': '18:07:38.4176980Z', 'GRID_CELL_SIZE_REFLECTIVE': 30, 'SUN_ELEVATION': 65.41982901, 'ALGORITHM_SOURCE_SURFACE_TEMPERATURE': 'st_1.5.0', 'TEMPERATURE_MAXIMUM_BAND_ST_B10': 372.999941, 'CLOUD_COVER_LAND': 17.05, 'GEOMETRIC_RMSE_MODEL': 5.494, 'ROLL_ANGLE': -0.001, 'COLLECTION_NUMBER': 2, 'DATE_PRODUCT_GENERATED': 1688383045000, 'L1_REQUEST_ID': '1753253_00036', 'DATA_SOURCE_OZONE': 'MODIS', 'Date_Filter': '2023-06-29', 'SATURATION_BAND_1': 'Y', 'DATA_SOURCE_WATER_VAPOR': 'MODIS', 'SATURATION_BAND_2': 'Y', 'SATURATION_BAND_3': 'Y', 'IMAGE_QUALITY_OLI': 9, 'SATURATION_BAND_4': 'Y', 'LANDSAT_SCENE_ID': 'LC90380322023180LGN00', 'SATURATION_BAND_5': 'Y', 'MAP_PROJECTION': 'UTM', 'SATURATION_BAND_6': 'Y', 'SENSOR_ID': 'OLI_TIRS', 'SATURATION_BAND_7': 'Y', 'SATURATION_BAND_8': 'N', 'WRS_PATH': 38, 'L1_PROCESSING_SOFTWARE_VERSION': 'LPGS_16.3.0', 'SATURATION_BAND_9': 'N', 'TARGET_WRS_PATH': 38, 'L1_LANDSAT_PRODUCT_ID': 'LC09_L1TP_038032_20230629_20230629_02_T1', 'TEMPERATURE_MULT_BAND_ST_B10': 0.00341802, 'PROCESSING_LEVEL': 'L2SP', 'ALGORITHM_SOURCE_SURFACE_REFLECTANCE': 'LaSRC_1.6.0', 'GROUND_CONTROL_POINTS_MODEL': 815, 'SPACECRAFT_ID': 'LANDSAT_9', 'TEMPERATURE_MINIMUM_BAND_ST_B10': 149.003418, 'GEOMETRIC_RMSE_MODEL_Y': 4.122, 'REFLECTIVE_LINES': 7911, 'GEOMETRIC_RMSE_MODEL_X': 3.632, 'THERMAL_SAMPLES': 7801, 'DATA_SOURCE_AIR_TEMPERATURE': 'MODIS', 'GROUND_CONTROL_POINTS_VERIFY': 256, 'system:index': '1_2_LC09_038032_20230629', 'REFLECTANCE_ADD_BAND_1': -0.2, 'REFLECTANCE_ADD_BAND_2': -0.2, 'system:footprint': {'type': 'LinearRing', 'coordinates': [[-112.78236234311687, 41.381496311623046], [-112.7828468571206, 41.38127467827299], [-113.03699217030727, 40.55215242760243], [-113.28314885990125, 39.72990390321096], [-113.30203658611967, 39.66601287059804], [-113.30200214996015, 39.6649745040283], [-113.30073146352068, 39.66451450795297], [-113.2507287609539, 39.6556147936378], [-112.97448675903267, 39.606044891213735], [-112.16025790761277, 39.455660010631746], [-111.48638086611322, 39.32635193622288], [-111.19445623169885, 39.26896988677842], [-111.19381200189447, 39.26947282867499], [-111.19205460711794, 39.27360003262779], [-110.9081638787159, 40.13060765527792], [-110.8073098085186, 40.43076601738683], [-110.6208581161793, 40.98384647836079], [-111.00425596572151, 41.05771532512864], [-112.57739344032544, 41.345787061221934], [-112.7488761971872, 41.375734161356064], [-112.78236234311687, 41.381496311623046]]}, 'DATA_SOURCE_ELEVATION': 'GLS2000', 'WRS_TYPE': 2}}]}\n"
     ]
    }
   ],
   "source": [
    "#Example using static method function to calculate NDWI for all images in an ee.ImageCollection object\n",
    "#Note the need for lambda to map functions with arguments other than the input image\n",
    "NDWI = col.collection.map(lambda image: LandsatCollection.LandsatCollection.landsat_ndwi_fn(image, threshold=0))\n",
    "print(NDWI.getInfo())\n",
    "\n"
   ]
  }
 ],
 "metadata": {
  "kernelspec": {
   "display_name": "geemap",
   "language": "python",
   "name": "python3"
  },
  "language_info": {
   "codemirror_mode": {
    "name": "ipython",
    "version": 3
   },
   "file_extension": ".py",
   "mimetype": "text/x-python",
   "name": "python",
   "nbconvert_exporter": "python",
   "pygments_lexer": "ipython3",
   "version": "3.11.5"
  }
 },
 "nbformat": 4,
 "nbformat_minor": 2
}
