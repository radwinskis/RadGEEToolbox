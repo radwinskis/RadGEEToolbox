{
 "cells": [
  {
   "cell_type": "code",
   "execution_count": 1,
   "metadata": {},
   "outputs": [],
   "source": [
    "import ee\n",
    "import geemap\n",
    "import sys\n",
    "sys.path.insert(0, '../RadGEEToolbox')\n",
    "import LandsatCollection\n",
    "import Sentinel2Collection\n",
    "import GetPalette\n",
    "import VisParams"
   ]
  },
  {
   "cell_type": "code",
   "execution_count": 2,
   "metadata": {},
   "outputs": [],
   "source": [
    "ee.Initialize()"
   ]
  },
  {
   "cell_type": "markdown",
   "metadata": {},
   "source": [
    "### RadGEEToolbox hosts two packages to help image visualization: 1) GetPalette and 2) VisParams\n",
    "- GetPalette has the get_palette() function which allows for easily getting the hex series for a variety of palettes\n",
    "- VisParams has the get_visualization_params() function which provides an alternative to visualization parameter dictionaries"
   ]
  },
  {
   "cell_type": "code",
   "execution_count": 3,
   "metadata": {},
   "outputs": [
    {
     "name": "stdout",
     "output_type": "stream",
     "text": [
      "['#00007F', '#002AFF', '#00D4FF', '#7FFF7F', '#FFD400', '#FF2A00', '#7F0000']\n"
     ]
    }
   ],
   "source": [
    "# Example getting the jet palette\n",
    "# options: 'algae', 'dense', 'greens', 'haline', 'inferno', 'jet', 'matter', 'pubu', 'soft_blue_green_red', 'thermal', 'turbid', 'ylord'\n",
    "jet = GetPalette.get_palette('jet')\n",
    "print(jet)"
   ]
  },
  {
   "cell_type": "markdown",
   "metadata": {},
   "source": [
    "#### get_visualization_params() takes satellite, index, min_val, max_val, and palette as arguments\n",
    "- min_val, max_val, and palette are optional, however, as defaults are provided based on the satellite and index\n",
    "- providing optional values will override the defaults\n",
    "\n",
    "Options for satellite: 'Landsat', 'landsat', 'Sentinel2', or 'sentinel2'\n",
    "\n",
    "Options for index: 'TrueColor', 'NDVI', 'NDWI', 'halite', 'gypsum', 'LST', 'NDTI', 'KIVU', or '2BDA'"
   ]
  },
  {
   "cell_type": "code",
   "execution_count": 4,
   "metadata": {},
   "outputs": [
    {
     "name": "stdout",
     "output_type": "stream",
     "text": [
      "{'min': 0, 'max': 30000, 'bands': ['SR_B4', 'SR_B3', 'SR_B2']}\n",
      "{'min': 0, 'max': 0.5, 'bands': ['ndvi'], 'palette': ['#f7fcf5', '#e5f5e0', '#c7e9c0', '#a1d99b', '#74c476', '#41ab5d', '#238b45', '#006d2c', '#00441b']}\n"
     ]
    }
   ],
   "source": [
    "true_color_vis_params = VisParams.get_visualization_params(satellite='landsat', index='TrueColor')\n",
    "print(true_color_vis_params)\n",
    "ndvi_vis_params = VisParams.get_visualization_params(satellite='landsat', index='NDVI')\n",
    "print(ndvi_vis_params)"
   ]
  },
  {
   "cell_type": "markdown",
   "metadata": {},
   "source": [
    "### Pulling it all together\n",
    "#### Lets 1) Define a collection, 2) Process the collection for various products (ndwi, median, LST), 3) Get list of dates of images, 4) Visualize most recent image as true color and singeband products"
   ]
  },
  {
   "cell_type": "code",
   "execution_count": 13,
   "metadata": {},
   "outputs": [
    {
     "name": "stdout",
     "output_type": "stream",
     "text": [
      "['2023-04-02', '2023-04-10', '2023-04-26', '2023-05-20', '2023-05-28', '2023-06-21', '2023-06-29', '2023-07-07', '2023-07-15']\n"
     ]
    }
   ],
   "source": [
    "col = LandsatCollection.LandsatCollection('2023-04-01', '2023-07-30', [32, 33], 38, 20)\n",
    "col = col.MosaicByDate\n",
    "ndwi = col.ndwi\n",
    "LST = col.LST\n",
    "mean_temperature = LST.mean\n",
    "dates = col.dates\n",
    "print(dates)"
   ]
  },
  {
   "cell_type": "code",
   "execution_count": 9,
   "metadata": {},
   "outputs": [
    {
     "data": {
      "application/vnd.jupyter.widget-view+json": {
       "model_id": "35035c4922cf483fa3e5049f75111c20",
       "version_major": 2,
       "version_minor": 0
      },
      "text/plain": [
       "Map(center=[40.7514, -111.9064], controls=(WidgetControl(options=['position', 'transparent_bg'], widget=HBox(c…"
      ]
     },
     "execution_count": 9,
     "metadata": {},
     "output_type": "execute_result"
    }
   ],
   "source": [
    "Map = geemap.Map(center=(40.7514, -111.9064), zoom=9)\n",
    "Map.addLayer(col.image_grab(-1), vis_params=VisParams.get_visualization_params('Landsat', 'TrueColor'))\n",
    "Map"
   ]
  },
  {
   "cell_type": "code",
   "execution_count": 23,
   "metadata": {},
   "outputs": [
    {
     "data": {
      "application/vnd.jupyter.widget-view+json": {
       "model_id": "bc2a1e6e69624484b87286f6ba538630",
       "version_major": 2,
       "version_minor": 0
      },
      "text/plain": [
       "Map(center=[40.7514, -111.9064], controls=(WidgetControl(options=['position', 'transparent_bg'], widget=HBox(c…"
      ]
     },
     "execution_count": 23,
     "metadata": {},
     "output_type": "execute_result"
    }
   ],
   "source": [
    "Map = geemap.Map(center=(40.7514, -111.9064), zoom=9)\n",
    "# min and max values are optional but allow for customization\n",
    "Map.addLayer(ndwi.image_grab(-1), vis_params=VisParams.get_visualization_params('Landsat', 'NDWI', min_val=-0.1, max_val=0.1))\n",
    "Map.add_colorbar(vis_params=VisParams.get_visualization_params('Landsat', 'NDWI', min_val=-0.1, max_val=0.1))\n",
    "Map"
   ]
  },
  {
   "cell_type": "code",
   "execution_count": 15,
   "metadata": {},
   "outputs": [
    {
     "data": {
      "application/vnd.jupyter.widget-view+json": {
       "model_id": "bb24a706805f4143af494df7f91f1e9e",
       "version_major": 2,
       "version_minor": 0
      },
      "text/plain": [
       "Map(center=[40.7514, -111.9064], controls=(WidgetControl(options=['position', 'transparent_bg'], widget=HBox(c…"
      ]
     },
     "execution_count": 15,
     "metadata": {},
     "output_type": "execute_result"
    }
   ],
   "source": [
    "Map = geemap.Map(center=(40.7514, -111.9064), zoom=9)\n",
    "vis_params=VisParams.get_visualization_params('Landsat', 'LST', min_val=5, max_val=60)\n",
    "Map.addLayer(LST.image_grab(-1), vis_params=vis_params)\n",
    "Map.add_colorbar(vis_params=vis_params)\n",
    "Map"
   ]
  },
  {
   "cell_type": "code",
   "execution_count": 16,
   "metadata": {},
   "outputs": [
    {
     "data": {
      "application/vnd.jupyter.widget-view+json": {
       "model_id": "deedf63c0bc54c6b98104e03897f5812",
       "version_major": 2,
       "version_minor": 0
      },
      "text/plain": [
       "Map(center=[40.7514, -111.9064], controls=(WidgetControl(options=['position', 'transparent_bg'], widget=HBox(c…"
      ]
     },
     "execution_count": 16,
     "metadata": {},
     "output_type": "execute_result"
    }
   ],
   "source": [
    "Map = geemap.Map(center=(40.7514, -111.9064), zoom=9)\n",
    "vis_params=VisParams.get_visualization_params('Landsat', 'LST', min_val=5, max_val=60)\n",
    "Map.addLayer(mean_temperature, vis_params=vis_params)\n",
    "Map.add_colorbar(vis_params=vis_params)\n",
    "Map"
   ]
  },
  {
   "cell_type": "markdown",
   "metadata": {},
   "source": [
    "#### Finally, lets look at a chained example looking at turbidity in water pixels - but let's do it taking full advantage of the package\n",
    "##### Look how little code is needed to define the collection using multiple landsat tiles, mosaic images with the same date, mask the collection to water pixels, and calculate the relative turbidity of the water pixels - then display it!"
   ]
  },
  {
   "cell_type": "code",
   "execution_count": 21,
   "metadata": {},
   "outputs": [
    {
     "name": "stdout",
     "output_type": "stream",
     "text": [
      "{'type': 'Image', 'bands': [{'id': 'ndti', 'data_type': {'type': 'PixelType', 'precision': 'float', 'min': -1, 'max': 1}, 'crs': 'EPSG:4326', 'crs_transform': [1, 0, 0, 0, 1, 0]}], 'properties': {'system:index': '8', 'Date_Filter': '2023-07-15', 'SPACECRAFT_ID': 'LANDSAT_9', 'CLOUD_COVER': 0.045, 'SENSOR_ID': 'OLI_TIRS', 'PROCESSING_LEVEL': 'L2SP'}}\n"
     ]
    }
   ],
   "source": [
    "masked_turbidity_col = LandsatCollection.LandsatCollection('2023-04-01', '2023-07-30', [32, 33], 38, 20).MosaicByDate.masked_to_water_collection.turbidity\n",
    "image = masked_turbidity_col.image_grab(-1)\n",
    "print(image.getInfo())"
   ]
  },
  {
   "cell_type": "code",
   "execution_count": 22,
   "metadata": {},
   "outputs": [
    {
     "data": {
      "application/vnd.jupyter.widget-view+json": {
       "model_id": "ceb260835aa944b4872dc611cc8d9258",
       "version_major": 2,
       "version_minor": 0
      },
      "text/plain": [
       "Map(center=[40.7514, -111.9064], controls=(WidgetControl(options=['position', 'transparent_bg'], widget=HBox(c…"
      ]
     },
     "execution_count": 22,
     "metadata": {},
     "output_type": "execute_result"
    }
   ],
   "source": [
    "Map = geemap.Map(center=(40.7514, -111.9064), zoom=9)\n",
    "vis_params=VisParams.get_visualization_params('Landsat', 'NDTI')\n",
    "Map.addLayer(image, vis_params=vis_params)\n",
    "Map.add_colorbar(vis_params=vis_params)\n",
    "Map"
   ]
  }
 ],
 "metadata": {
  "kernelspec": {
   "display_name": "geemap",
   "language": "python",
   "name": "python3"
  },
  "language_info": {
   "codemirror_mode": {
    "name": "ipython",
    "version": 3
   },
   "file_extension": ".py",
   "mimetype": "text/x-python",
   "name": "python",
   "nbconvert_exporter": "python",
   "pygments_lexer": "ipython3",
   "version": "3.11.5"
  }
 },
 "nbformat": 4,
 "nbformat_minor": 2
}
