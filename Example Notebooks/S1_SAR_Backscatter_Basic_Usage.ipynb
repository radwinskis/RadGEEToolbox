{
 "cells": [
  {
   "cell_type": "markdown",
   "id": "62a36def",
   "metadata": {},
   "source": [
    "**Initialization and Setup**"
   ]
  },
  {
   "cell_type": "code",
   "execution_count": 15,
   "id": "8ccbf201",
   "metadata": {},
   "outputs": [],
   "source": [
    "import ee\n",
    "from RadGEEToolbox import Sentinel1Collection"
   ]
  },
  {
   "cell_type": "code",
   "execution_count": 16,
   "id": "7a556efe",
   "metadata": {},
   "outputs": [
    {
     "name": "stdout",
     "output_type": "stream",
     "text": [
      "Earth Engine initialized successfully.\n"
     ]
    }
   ],
   "source": [
    "# Attempt to initialize Earth Engine\n",
    "try:\n",
    "    ee.Initialize()\n",
    "    print(\"Earth Engine initialized successfully.\")\n",
    "except Exception as e:\n",
    "    print(\"Initialization failed, attempting authentication...\")\n",
    "    try:\n",
    "        ee.Authenticate()\n",
    "        ee.Initialize()\n",
    "        print(\"Authentication and initialization successful.\")\n",
    "    except Exception as auth_error:\n",
    "        print(\"Authentication failed. Error details:\", auth_error)"
   ]
  },
  {
   "cell_type": "markdown",
   "id": "a2ec8525",
   "metadata": {},
   "source": [
    "**Quickly defining an ROI for filtering imagery - can be any ee.Geometry()**\n",
    "\n",
    "Note: You may filter based on relative orbit numbers in addition to a geometry"
   ]
  },
  {
   "cell_type": "code",
   "execution_count": 17,
   "id": "1a561b53",
   "metadata": {},
   "outputs": [],
   "source": [
    "# First we will define a region of interest (ROI) for the analysis, in this case, Salt Lake County, Utah.\n",
    "counties = ee.FeatureCollection('TIGER/2018/Counties')\n",
    "salt_lake_county = counties.filter(ee.Filter.And(\n",
    "    ee.Filter.eq('NAME', 'Salt Lake'),\n",
    "    ee.Filter.eq('STATEFP', '49')))\n",
    "salt_lake_geometry = salt_lake_county.geometry()"
   ]
  },
  {
   "cell_type": "markdown",
   "id": "8b1dc6b1",
   "metadata": {},
   "source": [
    "**Image collection definition and filtering**\n",
    "\n",
    "Define the desired parameters for the Sentinel-1 SAR collection. In this case, filtering to dual-polarized (VV/VH) descending IW scenes during May of 2024 "
   ]
  },
  {
   "cell_type": "code",
   "execution_count": 18,
   "id": "17e3048c",
   "metadata": {},
   "outputs": [
    {
     "name": "stdout",
     "output_type": "stream",
     "text": [
      "SAR Collection Dates: ['2024-05-04', '2024-05-04', '2024-05-11', '2024-05-11', '2024-05-23', '2024-05-23', '2024-05-28', '2024-05-28']\n"
     ]
    }
   ],
   "source": [
    "SAR_collection = Sentinel1Collection(\n",
    "    start_date='2024-05-01',\n",
    "    end_date='2024-05-31',\n",
    "    instrument_mode='IW',\n",
    "    polarization=['VV', 'VH'],\n",
    "    orbit_direction='DESCENDING',\n",
    "    boundary=salt_lake_geometry,\n",
    "    resolution_meters=10\n",
    ")\n",
    "dates = SAR_collection.dates\n",
    "print(\"SAR Collection Dates:\", dates)"
   ]
  },
  {
   "cell_type": "markdown",
   "id": "a6bb20b2",
   "metadata": {},
   "source": [
    "**Multilooking and speckle filtering are very common workflows for SAR data, and `RadGEEToolbox` provides functionality for both**\n",
    "\n",
    "S1 SAR data hosted by GEE is in units of decibels (dB, logarithmic) but units of σ⁰ (backscatter coefficient, linear) are more suitable for multilooking and speckle filtering.\n",
    "\n",
    "**First, we convert from dB to σ⁰**"
   ]
  },
  {
   "cell_type": "code",
   "execution_count": null,
   "id": "f89136bf",
   "metadata": {},
   "outputs": [],
   "source": [
    "SAR_collection_sigma0 = SAR_collection.Sigma0FromDb"
   ]
  },
  {
   "cell_type": "markdown",
   "id": "3d6c3ba4",
   "metadata": {},
   "source": [
    "**Then Perform Multilooking - in this case using 4 looks**"
   ]
  },
  {
   "cell_type": "code",
   "execution_count": null,
   "id": "ee8256a1",
   "metadata": {},
   "outputs": [],
   "source": [
    "SAR_collection_multilooked = SAR_collection_sigma0.multilook(looks=4)"
   ]
  },
  {
   "cell_type": "markdown",
   "id": "a15380be",
   "metadata": {},
   "source": [
    "**Now perform speckle filtering on the multilooked collection**\n",
    "\n",
    "When speckle filtering you must provide the kernel size (odd integer between 3-9). You may optionally tweak the speckle filter process by adjusting the geometry used for windowed statistics, the Tk value, sigma value, and number of looks of the input collection. \n",
    "\n",
    "In this case we choose a kernel size of 5x5, use the geometry of our ROI, and specify that the input collection is multilooked by 4 looks (important for the correct LUT usage)"
   ]
  },
  {
   "cell_type": "code",
   "execution_count": null,
   "id": "52e728a9",
   "metadata": {},
   "outputs": [],
   "source": [
    "SAR_collection_multilooked_and_filtered = SAR_collection_multilooked.speckle_filter(5, geometry=salt_lake_geometry, looks=4)"
   ]
  },
  {
   "cell_type": "markdown",
   "id": "830650f6",
   "metadata": {},
   "source": [
    "**Print the dates of the multilooked and speckle filtered SAR collection to verify the filtering worked successfully**"
   ]
  },
  {
   "cell_type": "code",
   "execution_count": 23,
   "id": "11d93e02",
   "metadata": {},
   "outputs": [
    {
     "name": "stdout",
     "output_type": "stream",
     "text": [
      "['2024-05-04', '2024-05-04', '2024-05-11', '2024-05-11', '2024-05-23', '2024-05-23', '2024-05-28', '2024-05-28']\n"
     ]
    }
   ],
   "source": [
    "print(SAR_collection_multilooked_and_filtered.dates)"
   ]
  },
  {
   "cell_type": "markdown",
   "id": "da3b46d0",
   "metadata": {},
   "source": [
    "**Now we convert back to dB for analysis and visualization**"
   ]
  },
  {
   "cell_type": "code",
   "execution_count": 24,
   "id": "432e005b",
   "metadata": {},
   "outputs": [],
   "source": [
    "SAR_collection_multilooked_and_filtered_db = SAR_collection_multilooked_and_filtered.DbFromSigma0"
   ]
  },
  {
   "cell_type": "markdown",
   "id": "b4ceb24f",
   "metadata": {},
   "source": [
    "**Temporally reduce the results by processing a mean composite**"
   ]
  },
  {
   "cell_type": "code",
   "execution_count": 25,
   "id": "292bca69",
   "metadata": {},
   "outputs": [],
   "source": [
    "mean_SAR_image = SAR_collection_multilooked_and_filtered_db.mean"
   ]
  },
  {
   "cell_type": "markdown",
   "id": "0d5ce020",
   "metadata": {},
   "source": [
    "**If you wish to visualize the results follow the code below. You will need to have the `geemap` package installed**"
   ]
  },
  {
   "cell_type": "code",
   "execution_count": 26,
   "id": "83cfd1fe",
   "metadata": {},
   "outputs": [],
   "source": [
    "import geemap\n",
    "from RadGEEToolbox import GetPalette\n",
    "from RadGEEToolbox import VisParams"
   ]
  },
  {
   "cell_type": "markdown",
   "id": "e04c9479",
   "metadata": {},
   "source": [
    "**Run the cell below to view the results on the map - note the raster is very large, so it may take a few seconds once done processing to display the image on the map**"
   ]
  },
  {
   "cell_type": "code",
   "execution_count": 28,
   "id": "aec94952",
   "metadata": {},
   "outputs": [
    {
     "data": {
      "text/html": [
       "\n",
       "            <style>\n",
       "                .geemap-dark {\n",
       "                    --jp-widgets-color: white;\n",
       "                    --jp-widgets-label-color: white;\n",
       "                    --jp-ui-font-color1: white;\n",
       "                    --jp-layout-color2: #454545;\n",
       "                    background-color: #383838;\n",
       "                }\n",
       "\n",
       "                .geemap-dark .jupyter-button {\n",
       "                    --jp-layout-color3: #383838;\n",
       "                }\n",
       "\n",
       "                .geemap-colab {\n",
       "                    background-color: var(--colab-primary-surface-color, white);\n",
       "                }\n",
       "\n",
       "                .geemap-colab .jupyter-button {\n",
       "                    --jp-layout-color3: var(--colab-primary-surface-color, white);\n",
       "                }\n",
       "            </style>\n",
       "            "
      ],
      "text/plain": [
       "<IPython.core.display.HTML object>"
      ]
     },
     "metadata": {},
     "output_type": "display_data"
    },
    {
     "data": {
      "application/vnd.jupyter.widget-view+json": {
       "model_id": "98e9383d439b44459f6766fe72703a3e",
       "version_major": 2,
       "version_minor": 0
      },
      "text/plain": [
       "Map(center=[40.7514, -111.9064], controls=(WidgetControl(options=['position', 'transparent_bg'], widget=Search…"
      ]
     },
     "execution_count": 28,
     "metadata": {},
     "output_type": "execute_result"
    }
   ],
   "source": [
    "Map = geemap.Map(center=(40.7514, -111.9064), zoom=9)\n",
    "Map.addLayer(mean_SAR_image.select('VV'), vis_params={'min': -50, 'max': 0, 'palette': GetPalette.get_palette('inferno')}, name='NDWI')\n",
    "Map.add_colorbar(vis_params={'min': -50, 'max': 0, 'palette': GetPalette.get_palette('inferno')})\n",
    "Map"
   ]
  },
  {
   "cell_type": "markdown",
   "id": "0d566f2b",
   "metadata": {},
   "source": [
    "### *Please refer to the [RadGEEToolbox documentation](https://radgeetoolbox.readthedocs.io/en/latest/) for more information and a comprehensive list of available functionality*"
   ]
  }
 ],
 "metadata": {
  "kernelspec": {
   "display_name": "Python 3",
   "language": "python",
   "name": "python3"
  },
  "language_info": {
   "codemirror_mode": {
    "name": "ipython",
    "version": 3
   },
   "file_extension": ".py",
   "mimetype": "text/x-python",
   "name": "python",
   "nbconvert_exporter": "python",
   "pygments_lexer": "ipython3",
   "version": "3.12.3"
  }
 },
 "nbformat": 4,
 "nbformat_minor": 5
}
